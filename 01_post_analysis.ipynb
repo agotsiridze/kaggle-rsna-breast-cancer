{
 "cells": [
  {
   "cell_type": "code",
   "execution_count": 1,
   "metadata": {},
   "outputs": [],
   "source": [
    "%load_ext autoreload\n",
    "%autoreload 2"
   ]
  },
  {
   "cell_type": "code",
   "execution_count": 2,
   "metadata": {},
   "outputs": [],
   "source": [
    "import numpy as np\n",
    "import pandas as pd\n",
    "import cv2\n",
    "from pathlib import Path\n",
    "import skimage.io as io\n",
    "import matplotlib.pyplot as plt\n",
    "import seaborn as sns\n",
    "from tqdm.auto import tqdm\n",
    "import os\n",
    "import pickle\n",
    "import pydicom\n",
    "from metrics import Pfbeta"
   ]
  },
  {
   "cell_type": "code",
   "execution_count": 3,
   "metadata": {},
   "outputs": [],
   "source": [
    "DATA_DIR = Path('input/rsna-breast-cancer-detection/')"
   ]
  },
  {
   "cell_type": "code",
   "execution_count": 4,
   "metadata": {},
   "outputs": [],
   "source": [
    "train = pd.read_csv(DATA_DIR/'train.csv')"
   ]
  },
  {
   "attachments": {},
   "cell_type": "markdown",
   "metadata": {},
   "source": [
    "# Load experiment"
   ]
  },
  {
   "cell_type": "code",
   "execution_count": 5,
   "metadata": {},
   "outputs": [],
   "source": [
    "from datasets import *\n",
    "from architectures import *\n",
    "import albumentations as A\n",
    "from albumentations.pytorch.transforms import ToTensorV2\n",
    "import torch\n",
    "from transforms import *\n",
    "from configs import *\n",
    "from kuma_utils.utils import sigmoid"
   ]
  },
  {
   "cell_type": "code",
   "execution_count": 6,
   "metadata": {},
   "outputs": [],
   "source": [
    "# def plot_color_gradients(cmap_name):\n",
    "#     gradient = np.linspace(0, 1, 256)\n",
    "#     gradient = np.vstack((gradient, gradient))\n",
    "#     # Create figure and adjust figure height to number of colormaps\n",
    "#     plt.figure(figsize=(10, 1))\n",
    "#     plt.imshow(gradient, aspect='auto', cmap=plt.cm.get_cmap(cmap_name))\n",
    "#     plt.axis('off')\n",
    "\n",
    "# plot_color_gradients('jet')"
   ]
  },
  {
   "cell_type": "code",
   "execution_count": 7,
   "metadata": {},
   "outputs": [],
   "source": [
    "# cfg = Dataset02v0()\n",
    "# ds = PatientLevelDataset(\n",
    "#     df=train, image_dir=Path('input/rsna-breast-cancer-detection/image_resized_1024W'),\n",
    "#     flip_lr=False,\n",
    "#     preprocess=A.Compose([AutoFlip(), CropROI(threshold=0.1, buffer=160), A.Resize(768, 384)]),\n",
    "#     transforms=ToTensorV2(),\n",
    "#     # preprocess=cfg.preprocess['train'],\n",
    "#     # transforms=cfg.transforms['train']\n",
    "# )"
   ]
  },
  {
   "cell_type": "code",
   "execution_count": 6,
   "metadata": {},
   "outputs": [],
   "source": [
    "cfg = Model05v3loss0()\n",
    "# model = cfg.model(**cfg.model_params)"
   ]
  },
  {
   "cell_type": "code",
   "execution_count": 7,
   "metadata": {},
   "outputs": [],
   "source": [
    "with open(f'results/{cfg.name}/predictions.pickle', 'rb') as f:\n",
    "    predictions = pickle.load(f)"
   ]
  },
  {
   "cell_type": "code",
   "execution_count": 8,
   "metadata": {},
   "outputs": [],
   "source": [
    "SAMPLE_ID = {\n",
    "    42624, 48001, 48514, 2179, 31107, 23554, 13185, 53255, \n",
    "    29192, 59530, 64908, 32527, 13845, 59552, 54816, 49954, \n",
    "    55330, 59307, 21934, 63536, 23729, 61490, 61874, 16955, \n",
    "    46014, 38727, 64456, 50375, 9162, 55755, 25550, 15696, \n",
    "    50002, 58195, 10198, 13016, 25050, 31581, 26333, 29664, \n",
    "    8289, 3305, 6637, 48493, 58610, 42231, 12282, 9083, 32252, 39677}"
   ]
  },
  {
   "cell_type": "code",
   "execution_count": 9,
   "metadata": {},
   "outputs": [],
   "source": [
    "metric = Pfbeta(binarize=True)"
   ]
  },
  {
   "cell_type": "code",
   "execution_count": 17,
   "metadata": {},
   "outputs": [],
   "source": [
    "for fold_i, (folds, pred_fold) in enumerate(zip(predictions['folds'], predictions['outoffolds'])):\n",
    "    ds = cfg.dataset(\n",
    "        df=train.iloc[folds[1]], \n",
    "        image_dir=Path('input/rsna-breast-cancer-detection/image_resized_1024W'),\n",
    "        # flip_lr=False, \n",
    "        is_test=True,\n",
    "        preprocess=cfg.preprocess['test'],\n",
    "        transforms=ToTensorV2())\n",
    "    labels = ds.get_labels().reshape(-1)\n",
    "    pred = sigmoid(pred_fold).reshape(-1)\n",
    "    hard_samples = np.argsort(np.abs(labels - pred))[::-1][:20]\n",
    "    for idx in hard_samples:\n",
    "        img, label = ds[idx]\n",
    "        plt.figure(figsize=(12, 4))\n",
    "        plt.suptitle(f'{ds.pids[idx]}/ {label[0].item()}/ {pred[idx]:5f}')\n",
    "        for i in range(img.shape[0]):\n",
    "            plt.subplot(1, img.shape[0], i+1)\n",
    "            plt.imshow(img[i, 0], cmap='gray')\n",
    "        # plt.show()\n",
    "        plt.savefig(f'input/plot2/fold{fold_i}_{idx}.png', facecolor='white')\n",
    "        plt.close()\n",
    "    # scores, thres = metric.optimal_f1_all(labels, pred)\n",
    "    # plt.plot(scores)\n",
    "    # plt.title(f'fold{fold_i} MAX: {max(scores):.5f} AUC: {sum(scores):.5f}')\n",
    "    # plt.show()"
   ]
  },
  {
   "cell_type": "code",
   "execution_count": 26,
   "metadata": {},
   "outputs": [],
   "source": [
    "# metric = Pfbeta(binarize=True)\n",
    "# for fold_i, (folds, pred_fold) in enumerate(zip(predictions['folds'], predictions['outoffolds'])):\n",
    "#     ds = cfg.dataset(\n",
    "#         df=train.iloc[folds[1]], image_dir=Path('input/rsna-breast-cancer-detection/image_resized_1024W'))\n",
    "#     res_df = []\n",
    "#     for i in range(len(ds)):\n",
    "#         record = ds.df_dict[ds.pids[i]]\n",
    "#         res_df.append({\n",
    "#             'pred': sigmoid(pred_fold[i][0]), \n",
    "#             'label': record['cancer'].values[0],\n",
    "#             'site': record['site_id'].values[0]})\n",
    "#     res_df = pd.DataFrame(res_df)\n",
    "#     print(f'fold {fold_i}')\n",
    "#     print('overall')\n",
    "#     print(metric.optimal_f1(res_df['label'].values, res_df['pred'].values))\n",
    "#     print('site 1')\n",
    "#     print(metric.optimal_f1(res_df.query('site == 1')['label'].values, res_df.query('site == 1')['pred'].values))\n",
    "#     print('site 2')\n",
    "#     print(metric.optimal_f1(res_df.query('site == 2')['label'].values, res_df.query('site == 2')['pred'].values))"
   ]
  },
  {
   "cell_type": "markdown",
   "metadata": {},
   "source": [
    "# Use metadata ? "
   ]
  },
  {
   "cell_type": "code",
   "execution_count": 17,
   "metadata": {},
   "outputs": [],
   "source": [
    "from sklearn.linear_model import LogisticRegression"
   ]
  },
  {
   "cell_type": "code",
   "execution_count": 30,
   "metadata": {},
   "outputs": [
    {
     "name": "stdout",
     "output_type": "stream",
     "text": [
      "(0.425, 0.64)\n",
      "(0.42236024844720493, 0.22)\n",
      "(0.4174757281553398, 0.13)\n",
      "(0.4161849710982659, 0.05)\n",
      "(0.5681818181818182, 0.31)\n",
      "(0.5654450261780104, 0.05)\n",
      "(0.5, 0.28)\n",
      "(0.48837209302325585, 0.09)\n",
      "(0.42276422764227634, 0.65)\n",
      "(0.42975206611570244, 0.39)\n"
     ]
    }
   ],
   "source": [
    "for fold_i, (folds, pred_fold) in enumerate(zip(predictions['folds'], predictions['outoffolds'])):\n",
    "    ds = cfg.dataset(df=train.iloc[folds[1]], image_dir=None)\n",
    "    labels = ds.get_labels()\n",
    "    pred = sigmoid(pred_fold).reshape(-1)\n",
    "    print(metric.optimal_f1(labels, pred))\n",
    "    stack_x = pd.DataFrame({\n",
    "        'pred': pred,\n",
    "        'age': [ds.df_dict[ds.pids[i]]['age'].values[0] / 100 for i in range(len(ds))]\n",
    "    })\n",
    "    stack_x['age'] = stack_x['age'].fillna(stack_x['age'].mean())\n",
    "    model = LogisticRegression()\n",
    "    model.fit(stack_x, labels.reshape(-1))\n",
    "    pred2 = model.predict_proba(stack_x)[:, 1]\n",
    "    print(metric.optimal_f1(labels, pred2))\n",
    "    "
   ]
  },
  {
   "cell_type": "code",
   "execution_count": null,
   "metadata": {},
   "outputs": [],
   "source": []
  }
 ],
 "metadata": {
  "kernelspec": {
   "display_name": "kumaconda22",
   "language": "python",
   "name": "python3"
  },
  "language_info": {
   "codemirror_mode": {
    "name": "ipython",
    "version": 3
   },
   "file_extension": ".py",
   "mimetype": "text/x-python",
   "name": "python",
   "nbconvert_exporter": "python",
   "pygments_lexer": "ipython3",
   "version": "3.9.12"
  },
  "orig_nbformat": 4,
  "vscode": {
   "interpreter": {
    "hash": "df01e636841dc76853efe73a888ff447485d7406624663312d3a1e3bb89e4467"
   }
  }
 },
 "nbformat": 4,
 "nbformat_minor": 2
}
