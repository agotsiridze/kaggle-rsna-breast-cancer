{
 "cells": [
  {
   "cell_type": "code",
   "execution_count": 1,
   "metadata": {},
   "outputs": [],
   "source": [
    "%load_ext autoreload\n",
    "%autoreload 2"
   ]
  },
  {
   "cell_type": "code",
   "execution_count": 2,
   "metadata": {},
   "outputs": [],
   "source": [
    "import numpy as np\n",
    "import pandas as pd\n",
    "import cv2\n",
    "from pathlib import Path\n",
    "import skimage.io as io\n",
    "import matplotlib.pyplot as plt\n",
    "import seaborn as sns\n",
    "from tqdm.auto import tqdm\n",
    "import os\n",
    "import pickle\n",
    "import pydicom\n",
    "from metrics import Pfbeta"
   ]
  },
  {
   "cell_type": "code",
   "execution_count": 3,
   "metadata": {},
   "outputs": [],
   "source": [
    "DATA_DIR = Path('input/rsna-breast-cancer-detection/')"
   ]
  },
  {
   "cell_type": "code",
   "execution_count": 4,
   "metadata": {},
   "outputs": [],
   "source": [
    "train = pd.read_csv(DATA_DIR/'train.csv')"
   ]
  },
  {
   "attachments": {},
   "cell_type": "markdown",
   "metadata": {},
   "source": [
    "# Load experiment"
   ]
  },
  {
   "cell_type": "code",
   "execution_count": 5,
   "metadata": {},
   "outputs": [],
   "source": [
    "from datasets import *\n",
    "from architectures import *\n",
    "import albumentations as A\n",
    "from albumentations.pytorch.transforms import ToTensorV2\n",
    "import torch\n",
    "from transforms import *\n",
    "from configs import *\n",
    "from configs_seg import SegBaseline, SegBaseline2\n",
    "from kuma_utils.utils import sigmoid\n",
    "from sklearn.metrics import roc_auc_score"
   ]
  },
  {
   "cell_type": "code",
   "execution_count": 6,
   "metadata": {},
   "outputs": [],
   "source": [
    "# def plot_color_gradients(cmap_name):\n",
    "#     gradient = np.linspace(0, 1, 256)\n",
    "#     gradient = np.vstack((gradient, gradient))\n",
    "#     # Create figure and adjust figure height to number of colormaps\n",
    "#     plt.figure(figsize=(10, 1))\n",
    "#     plt.imshow(gradient, aspect='auto', cmap=plt.cm.get_cmap(cmap_name))\n",
    "#     plt.axis('off')\n",
    "\n",
    "# plot_color_gradients('jet')"
   ]
  },
  {
   "cell_type": "code",
   "execution_count": 7,
   "metadata": {},
   "outputs": [],
   "source": [
    "# cfg = Dataset02v0()\n",
    "# ds = PatientLevelDataset(\n",
    "#     df=train, image_dir=Path('input/rsna-breast-cancer-detection/image_resized_1024W'),\n",
    "#     flip_lr=False,\n",
    "#     preprocess=A.Compose([AutoFlip(), CropROI(threshold=0.1, buffer=160), A.Resize(768, 384)]),\n",
    "#     transforms=ToTensorV2(),\n",
    "#     # preprocess=cfg.preprocess['train'],\n",
    "#     # transforms=cfg.transforms['train']\n",
    "# )"
   ]
  },
  {
   "cell_type": "code",
   "execution_count": 6,
   "metadata": {},
   "outputs": [],
   "source": [
    "cfg = Baseline4()\n",
    "# model = cfg.model(**cfg.model_params)"
   ]
  },
  {
   "cell_type": "code",
   "execution_count": 7,
   "metadata": {},
   "outputs": [],
   "source": [
    "with open(f'results/{cfg.name}/predictions.pickle', 'rb') as f:\n",
    "    predictions = pickle.load(f)"
   ]
  },
  {
   "cell_type": "code",
   "execution_count": 8,
   "metadata": {},
   "outputs": [],
   "source": [
    "# train['fold'] = 0\n",
    "# for fold_i, (train_idx, valid_idx) in enumerate(predictions['folds']):\n",
    "#     train.loc[valid_idx, 'fold'] = fold_i\n",
    "# train.to_csv('train_with_fold.csv', index=False)"
   ]
  },
  {
   "cell_type": "code",
   "execution_count": 9,
   "metadata": {},
   "outputs": [],
   "source": [
    "SAMPLE_ID = {\n",
    "    42624, 48001, 48514, 2179, 31107, 23554, 13185, 53255, \n",
    "    29192, 59530, 64908, 32527, 13845, 59552, 54816, 49954, \n",
    "    55330, 59307, 21934, 63536, 23729, 61490, 61874, 16955, \n",
    "    46014, 38727, 64456, 50375, 9162, 55755, 25550, 15696, \n",
    "    50002, 58195, 10198, 13016, 25050, 31581, 26333, 29664, \n",
    "    8289, 3305, 6637, 48493, 58610, 42231, 12282, 9083, 32252, 39677}"
   ]
  },
  {
   "cell_type": "code",
   "execution_count": 10,
   "metadata": {},
   "outputs": [],
   "source": [
    "metric = Pfbeta(binarize=True)"
   ]
  },
  {
   "cell_type": "code",
   "execution_count": 24,
   "metadata": {},
   "outputs": [],
   "source": [
    "# for fold_i, (folds, pred_fold) in enumerate(zip(predictions['folds'], predictions['outoffolds'])):\n",
    "#     ds = cfg.dataset(\n",
    "#         df=train.iloc[folds[1]], \n",
    "#         image_dir=Path('input/rsna-breast-cancer-detection/image_resized_1024W'),\n",
    "#         is_test=True,\n",
    "#         preprocess=cfg.preprocess['test'],\n",
    "#         transforms=ToTensorV2())\n",
    "#     labels = ds.get_labels().reshape(-1)\n",
    "#     pred = sigmoid(pred_fold).reshape(-1)\n",
    "#     hard_samples = np.argsort(np.abs(labels - pred))[::-1][:20]\n",
    "#     for idx in hard_samples:\n",
    "#         img, label = ds[idx]\n",
    "#         plt.figure(figsize=(12, 4))\n",
    "#         plt.suptitle(f'{ds.pids[idx]}/ {label[0].item()}/ {pred[idx]:5f}')\n",
    "#         for i in range(img.shape[0]):\n",
    "#             plt.subplot(1, img.shape[0], i+1)\n",
    "#             plt.imshow(img[i, 0], cmap='gray')\n",
    "#         # plt.show()\n",
    "#         plt.savefig(f'input/plot2/fold{fold_i}_{idx}.png', facecolor='white')\n",
    "#         plt.close()\n",
    "#     # scores, thres = metric.optimal_f1_all(labels, pred)\n",
    "#     # plt.plot(scores)\n",
    "#     # plt.title(f'fold{fold_i} MAX: {max(scores):.5f} AUC: {sum(scores):.5f}')\n",
    "#     # plt.show()"
   ]
  },
  {
   "cell_type": "code",
   "execution_count": 12,
   "metadata": {},
   "outputs": [],
   "source": [
    "def aggregate_results(cfg):\n",
    "    with open(f'results/{cfg.name}/predictions.pickle', 'rb') as f:\n",
    "        predictions = pickle.load(f)\n",
    "    metric = Pfbeta(binarize=True)\n",
    "    res_df = []\n",
    "    for fold_i, (folds, pred_fold) in enumerate(zip(predictions['folds'], predictions['outoffolds'])):\n",
    "        ds = cfg.dataset(\n",
    "            df=train.iloc[folds[1]], image_dir=None)\n",
    "        for i in range(len(ds)):\n",
    "            record = ds.df_dict[ds.pids[i]]\n",
    "            res_df.append({\n",
    "                'pred': sigmoid(pred_fold[i][0]), \n",
    "                'label': record['cancer'].values[0],\n",
    "                'site': record['site_id'].values[0],\n",
    "                'machine_id': record['machine_id'].values[0]})\n",
    "    res_df = pd.DataFrame(res_df)\n",
    "    return res_df\n",
    "\n",
    "\n",
    "def subgroup_analysis(df, col='site'):\n",
    "    res = [{\n",
    "        'value': f'{col}_overall', \n",
    "        'PF1': metric.optimal_f1(df['label'].values, df['pred'].values) if df['label'].sum() > 0 else 'NaN',\n",
    "        'AUC': roc_auc_score(df['label'].values, df['pred'].values) if df['label'].sum() > 0 else 'NaN'\n",
    "    }]\n",
    "    for gid, gdf in df.groupby(col):\n",
    "        res.append({\n",
    "            'value': f'{col}_{gid}', \n",
    "            'PF1': metric.optimal_f1(gdf['label'].values, gdf['pred'].values) if gdf['label'].sum() > 0 else 'NaN',\n",
    "            'AUC': roc_auc_score(gdf['label'].values, gdf['pred'].values) if gdf['label'].sum() > 0 else 'NaN'\n",
    "        })\n",
    "    res = pd.DataFrame(res)\n",
    "    return res\n"
   ]
  },
  {
   "cell_type": "code",
   "execution_count": 15,
   "metadata": {},
   "outputs": [
    {
     "data": {
      "text/plain": [
       "0.44097995545657015"
      ]
     },
     "execution_count": 15,
     "metadata": {},
     "output_type": "execute_result"
    }
   ],
   "source": [
    "agg_df = aggregate_results(Model05v3aug0)\n",
    "metric.pfbeta(agg_df['label'].values, (agg_df['pred'] > np.percentile(agg_df['pred'], 98.3)).values)"
   ]
  },
  {
   "cell_type": "code",
   "execution_count": 17,
   "metadata": {},
   "outputs": [
    {
     "data": {
      "text/html": [
       "<div>\n",
       "<style scoped>\n",
       "    .dataframe tbody tr th:only-of-type {\n",
       "        vertical-align: middle;\n",
       "    }\n",
       "\n",
       "    .dataframe tbody tr th {\n",
       "        vertical-align: top;\n",
       "    }\n",
       "\n",
       "    .dataframe thead th {\n",
       "        text-align: right;\n",
       "    }\n",
       "</style>\n",
       "<table border=\"1\" class=\"dataframe\">\n",
       "  <thead>\n",
       "    <tr style=\"text-align: right;\">\n",
       "      <th></th>\n",
       "      <th>value</th>\n",
       "      <th>PF1</th>\n",
       "      <th>AUC</th>\n",
       "    </tr>\n",
       "  </thead>\n",
       "  <tbody>\n",
       "    <tr>\n",
       "      <th>0</th>\n",
       "      <td>site_overall</td>\n",
       "      <td>(0.44369369369369366, 0.21)</td>\n",
       "      <td>0.884367</td>\n",
       "    </tr>\n",
       "    <tr>\n",
       "      <th>1</th>\n",
       "      <td>site_1</td>\n",
       "      <td>(0.3644251626898048, 0.22)</td>\n",
       "      <td>0.857709</td>\n",
       "    </tr>\n",
       "    <tr>\n",
       "      <th>2</th>\n",
       "      <td>site_2</td>\n",
       "      <td>(0.5355450236966826, 0.21)</td>\n",
       "      <td>0.908317</td>\n",
       "    </tr>\n",
       "  </tbody>\n",
       "</table>\n",
       "</div>"
      ],
      "text/plain": [
       "          value                          PF1       AUC\n",
       "0  site_overall  (0.44369369369369366, 0.21)  0.884367\n",
       "1        site_1   (0.3644251626898048, 0.22)  0.857709\n",
       "2        site_2   (0.5355450236966826, 0.21)  0.908317"
      ]
     },
     "metadata": {},
     "output_type": "display_data"
    },
    {
     "data": {
      "text/html": [
       "<div>\n",
       "<style scoped>\n",
       "    .dataframe tbody tr th:only-of-type {\n",
       "        vertical-align: middle;\n",
       "    }\n",
       "\n",
       "    .dataframe tbody tr th {\n",
       "        vertical-align: top;\n",
       "    }\n",
       "\n",
       "    .dataframe thead th {\n",
       "        text-align: right;\n",
       "    }\n",
       "</style>\n",
       "<table border=\"1\" class=\"dataframe\">\n",
       "  <thead>\n",
       "    <tr style=\"text-align: right;\">\n",
       "      <th></th>\n",
       "      <th>value</th>\n",
       "      <th>PF1</th>\n",
       "      <th>AUC</th>\n",
       "    </tr>\n",
       "  </thead>\n",
       "  <tbody>\n",
       "    <tr>\n",
       "      <th>0</th>\n",
       "      <td>machine_id_overall</td>\n",
       "      <td>(0.44369369369369366, 0.21)</td>\n",
       "      <td>0.884367</td>\n",
       "    </tr>\n",
       "    <tr>\n",
       "      <th>1</th>\n",
       "      <td>machine_id_21</td>\n",
       "      <td>(0.5223880597014926, 0.19)</td>\n",
       "      <td>0.900304</td>\n",
       "    </tr>\n",
       "    <tr>\n",
       "      <th>2</th>\n",
       "      <td>machine_id_29</td>\n",
       "      <td>(0.5481481481481483, 0.2)</td>\n",
       "      <td>0.909318</td>\n",
       "    </tr>\n",
       "    <tr>\n",
       "      <th>3</th>\n",
       "      <td>machine_id_48</td>\n",
       "      <td>(0.5555555555555556, 0.61)</td>\n",
       "      <td>0.92069</td>\n",
       "    </tr>\n",
       "    <tr>\n",
       "      <th>4</th>\n",
       "      <td>machine_id_49</td>\n",
       "      <td>(0.37735849056603765, 0.22)</td>\n",
       "      <td>0.848337</td>\n",
       "    </tr>\n",
       "    <tr>\n",
       "      <th>5</th>\n",
       "      <td>machine_id_93</td>\n",
       "      <td>(0.33333333333333337, 0.44)</td>\n",
       "      <td>0.829313</td>\n",
       "    </tr>\n",
       "    <tr>\n",
       "      <th>6</th>\n",
       "      <td>machine_id_170</td>\n",
       "      <td>(0.4615384615384615, 0.06)</td>\n",
       "      <td>0.887366</td>\n",
       "    </tr>\n",
       "    <tr>\n",
       "      <th>7</th>\n",
       "      <td>machine_id_190</td>\n",
       "      <td>(0.03773584905660378, 0.0)</td>\n",
       "      <td>0.882353</td>\n",
       "    </tr>\n",
       "    <tr>\n",
       "      <th>8</th>\n",
       "      <td>machine_id_197</td>\n",
       "      <td>NaN</td>\n",
       "      <td>NaN</td>\n",
       "    </tr>\n",
       "    <tr>\n",
       "      <th>9</th>\n",
       "      <td>machine_id_210</td>\n",
       "      <td>NaN</td>\n",
       "      <td>NaN</td>\n",
       "    </tr>\n",
       "    <tr>\n",
       "      <th>10</th>\n",
       "      <td>machine_id_216</td>\n",
       "      <td>(0.007741935483870968, 0.0)</td>\n",
       "      <td>0.771565</td>\n",
       "    </tr>\n",
       "  </tbody>\n",
       "</table>\n",
       "</div>"
      ],
      "text/plain": [
       "                 value                          PF1       AUC\n",
       "0   machine_id_overall  (0.44369369369369366, 0.21)  0.884367\n",
       "1        machine_id_21   (0.5223880597014926, 0.19)  0.900304\n",
       "2        machine_id_29    (0.5481481481481483, 0.2)  0.909318\n",
       "3        machine_id_48   (0.5555555555555556, 0.61)   0.92069\n",
       "4        machine_id_49  (0.37735849056603765, 0.22)  0.848337\n",
       "5        machine_id_93  (0.33333333333333337, 0.44)  0.829313\n",
       "6       machine_id_170   (0.4615384615384615, 0.06)  0.887366\n",
       "7       machine_id_190   (0.03773584905660378, 0.0)  0.882353\n",
       "8       machine_id_197                          NaN       NaN\n",
       "9       machine_id_210                          NaN       NaN\n",
       "10      machine_id_216  (0.007741935483870968, 0.0)  0.771565"
      ]
     },
     "metadata": {},
     "output_type": "display_data"
    }
   ],
   "source": [
    "agg_df = aggregate_results(Model05v3aug0)\n",
    "display(subgroup_analysis(agg_df, 'site'))\n",
    "display(subgroup_analysis(agg_df, 'machine_id'))\n"
   ]
  },
  {
   "cell_type": "code",
   "execution_count": 35,
   "metadata": {},
   "outputs": [
    {
     "data": {
      "text/html": [
       "<div>\n",
       "<style scoped>\n",
       "    .dataframe tbody tr th:only-of-type {\n",
       "        vertical-align: middle;\n",
       "    }\n",
       "\n",
       "    .dataframe tbody tr th {\n",
       "        vertical-align: top;\n",
       "    }\n",
       "\n",
       "    .dataframe thead th {\n",
       "        text-align: right;\n",
       "    }\n",
       "</style>\n",
       "<table border=\"1\" class=\"dataframe\">\n",
       "  <thead>\n",
       "    <tr style=\"text-align: right;\">\n",
       "      <th></th>\n",
       "      <th>value</th>\n",
       "      <th>PF1</th>\n",
       "      <th>AUC</th>\n",
       "    </tr>\n",
       "  </thead>\n",
       "  <tbody>\n",
       "    <tr>\n",
       "      <th>0</th>\n",
       "      <td>site_overall</td>\n",
       "      <td>(0.4669703872437358, 0.25)</td>\n",
       "      <td>0.879401</td>\n",
       "    </tr>\n",
       "    <tr>\n",
       "      <th>1</th>\n",
       "      <td>site_1</td>\n",
       "      <td>(0.3711790393013101, 0.25)</td>\n",
       "      <td>0.849230</td>\n",
       "    </tr>\n",
       "    <tr>\n",
       "      <th>2</th>\n",
       "      <td>site_2</td>\n",
       "      <td>(0.5714285714285715, 0.25)</td>\n",
       "      <td>0.904431</td>\n",
       "    </tr>\n",
       "  </tbody>\n",
       "</table>\n",
       "</div>"
      ],
      "text/plain": [
       "          value                         PF1       AUC\n",
       "0  site_overall  (0.4669703872437358, 0.25)  0.879401\n",
       "1        site_1  (0.3711790393013101, 0.25)  0.849230\n",
       "2        site_2  (0.5714285714285715, 0.25)  0.904431"
      ]
     },
     "metadata": {},
     "output_type": "display_data"
    },
    {
     "data": {
      "text/html": [
       "<div>\n",
       "<style scoped>\n",
       "    .dataframe tbody tr th:only-of-type {\n",
       "        vertical-align: middle;\n",
       "    }\n",
       "\n",
       "    .dataframe tbody tr th {\n",
       "        vertical-align: top;\n",
       "    }\n",
       "\n",
       "    .dataframe thead th {\n",
       "        text-align: right;\n",
       "    }\n",
       "</style>\n",
       "<table border=\"1\" class=\"dataframe\">\n",
       "  <thead>\n",
       "    <tr style=\"text-align: right;\">\n",
       "      <th></th>\n",
       "      <th>value</th>\n",
       "      <th>PF1</th>\n",
       "      <th>AUC</th>\n",
       "    </tr>\n",
       "  </thead>\n",
       "  <tbody>\n",
       "    <tr>\n",
       "      <th>0</th>\n",
       "      <td>machine_id_overall</td>\n",
       "      <td>(0.4669703872437358, 0.25)</td>\n",
       "      <td>0.879401</td>\n",
       "    </tr>\n",
       "    <tr>\n",
       "      <th>1</th>\n",
       "      <td>machine_id_21</td>\n",
       "      <td>(0.5217391304347826, 0.18)</td>\n",
       "      <td>0.906191</td>\n",
       "    </tr>\n",
       "    <tr>\n",
       "      <th>2</th>\n",
       "      <td>machine_id_29</td>\n",
       "      <td>(0.5555555555555556, 0.16)</td>\n",
       "      <td>0.907058</td>\n",
       "    </tr>\n",
       "    <tr>\n",
       "      <th>3</th>\n",
       "      <td>machine_id_48</td>\n",
       "      <td>(0.641025641025641, 0.25)</td>\n",
       "      <td>0.905984</td>\n",
       "    </tr>\n",
       "    <tr>\n",
       "      <th>4</th>\n",
       "      <td>machine_id_49</td>\n",
       "      <td>(0.38004750593824227, 0.25)</td>\n",
       "      <td>0.8444</td>\n",
       "    </tr>\n",
       "    <tr>\n",
       "      <th>5</th>\n",
       "      <td>machine_id_93</td>\n",
       "      <td>(0.33333333333333337, 0.84)</td>\n",
       "      <td>0.749676</td>\n",
       "    </tr>\n",
       "    <tr>\n",
       "      <th>6</th>\n",
       "      <td>machine_id_170</td>\n",
       "      <td>(0.5217391304347826, 0.12)</td>\n",
       "      <td>0.934946</td>\n",
       "    </tr>\n",
       "    <tr>\n",
       "      <th>7</th>\n",
       "      <td>machine_id_190</td>\n",
       "      <td>(0.03773584905660378, 0.0)</td>\n",
       "      <td>0.745098</td>\n",
       "    </tr>\n",
       "    <tr>\n",
       "      <th>8</th>\n",
       "      <td>machine_id_197</td>\n",
       "      <td>NaN</td>\n",
       "      <td>NaN</td>\n",
       "    </tr>\n",
       "    <tr>\n",
       "      <th>9</th>\n",
       "      <td>machine_id_210</td>\n",
       "      <td>NaN</td>\n",
       "      <td>NaN</td>\n",
       "    </tr>\n",
       "    <tr>\n",
       "      <th>10</th>\n",
       "      <td>machine_id_216</td>\n",
       "      <td>(0.007741935483870968, 0.0)</td>\n",
       "      <td>0.394452</td>\n",
       "    </tr>\n",
       "  </tbody>\n",
       "</table>\n",
       "</div>"
      ],
      "text/plain": [
       "                 value                          PF1       AUC\n",
       "0   machine_id_overall   (0.4669703872437358, 0.25)  0.879401\n",
       "1        machine_id_21   (0.5217391304347826, 0.18)  0.906191\n",
       "2        machine_id_29   (0.5555555555555556, 0.16)  0.907058\n",
       "3        machine_id_48    (0.641025641025641, 0.25)  0.905984\n",
       "4        machine_id_49  (0.38004750593824227, 0.25)    0.8444\n",
       "5        machine_id_93  (0.33333333333333337, 0.84)  0.749676\n",
       "6       machine_id_170   (0.5217391304347826, 0.12)  0.934946\n",
       "7       machine_id_190   (0.03773584905660378, 0.0)  0.745098\n",
       "8       machine_id_197                          NaN       NaN\n",
       "9       machine_id_210                          NaN       NaN\n",
       "10      machine_id_216  (0.007741935483870968, 0.0)  0.394452"
      ]
     },
     "metadata": {},
     "output_type": "display_data"
    }
   ],
   "source": [
    "agg_df = aggregate_results(Aug07)\n",
    "display(subgroup_analysis(agg_df, 'site'))\n",
    "display(subgroup_analysis(agg_df, 'machine_id'))\n"
   ]
  },
  {
   "cell_type": "code",
   "execution_count": 28,
   "metadata": {},
   "outputs": [
    {
     "data": {
      "text/html": [
       "<div>\n",
       "<style scoped>\n",
       "    .dataframe tbody tr th:only-of-type {\n",
       "        vertical-align: middle;\n",
       "    }\n",
       "\n",
       "    .dataframe tbody tr th {\n",
       "        vertical-align: top;\n",
       "    }\n",
       "\n",
       "    .dataframe thead th {\n",
       "        text-align: right;\n",
       "    }\n",
       "</style>\n",
       "<table border=\"1\" class=\"dataframe\">\n",
       "  <thead>\n",
       "    <tr style=\"text-align: right;\">\n",
       "      <th></th>\n",
       "      <th>value</th>\n",
       "      <th>PF1</th>\n",
       "      <th>AUC</th>\n",
       "    </tr>\n",
       "  </thead>\n",
       "  <tbody>\n",
       "    <tr>\n",
       "      <th>0</th>\n",
       "      <td>site_overall</td>\n",
       "      <td>(0.43645083932853723, 0.3)</td>\n",
       "      <td>0.881930</td>\n",
       "    </tr>\n",
       "    <tr>\n",
       "      <th>1</th>\n",
       "      <td>site_1</td>\n",
       "      <td>(0.36448598130841126, 0.3)</td>\n",
       "      <td>0.844627</td>\n",
       "    </tr>\n",
       "    <tr>\n",
       "      <th>2</th>\n",
       "      <td>site_2</td>\n",
       "      <td>(0.5225653206650832, 0.25)</td>\n",
       "      <td>0.916229</td>\n",
       "    </tr>\n",
       "  </tbody>\n",
       "</table>\n",
       "</div>"
      ],
      "text/plain": [
       "          value                         PF1       AUC\n",
       "0  site_overall  (0.43645083932853723, 0.3)  0.881930\n",
       "1        site_1  (0.36448598130841126, 0.3)  0.844627\n",
       "2        site_2  (0.5225653206650832, 0.25)  0.916229"
      ]
     },
     "metadata": {},
     "output_type": "display_data"
    },
    {
     "data": {
      "text/html": [
       "<div>\n",
       "<style scoped>\n",
       "    .dataframe tbody tr th:only-of-type {\n",
       "        vertical-align: middle;\n",
       "    }\n",
       "\n",
       "    .dataframe tbody tr th {\n",
       "        vertical-align: top;\n",
       "    }\n",
       "\n",
       "    .dataframe thead th {\n",
       "        text-align: right;\n",
       "    }\n",
       "</style>\n",
       "<table border=\"1\" class=\"dataframe\">\n",
       "  <thead>\n",
       "    <tr style=\"text-align: right;\">\n",
       "      <th></th>\n",
       "      <th>value</th>\n",
       "      <th>PF1</th>\n",
       "      <th>AUC</th>\n",
       "    </tr>\n",
       "  </thead>\n",
       "  <tbody>\n",
       "    <tr>\n",
       "      <th>0</th>\n",
       "      <td>machine_id_overall</td>\n",
       "      <td>(0.43645083932853723, 0.3)</td>\n",
       "      <td>0.88193</td>\n",
       "    </tr>\n",
       "    <tr>\n",
       "      <th>1</th>\n",
       "      <td>machine_id_21</td>\n",
       "      <td>(0.5027932960893856, 0.06)</td>\n",
       "      <td>0.923085</td>\n",
       "    </tr>\n",
       "    <tr>\n",
       "      <th>2</th>\n",
       "      <td>machine_id_29</td>\n",
       "      <td>(0.5323741007194244, 0.25)</td>\n",
       "      <td>0.910674</td>\n",
       "    </tr>\n",
       "    <tr>\n",
       "      <th>3</th>\n",
       "      <td>machine_id_48</td>\n",
       "      <td>(0.5655172413793104, 0.35000000000000003)</td>\n",
       "      <td>0.916046</td>\n",
       "    </tr>\n",
       "    <tr>\n",
       "      <th>4</th>\n",
       "      <td>machine_id_49</td>\n",
       "      <td>(0.3869346733668341, 0.3)</td>\n",
       "      <td>0.837247</td>\n",
       "    </tr>\n",
       "    <tr>\n",
       "      <th>5</th>\n",
       "      <td>machine_id_93</td>\n",
       "      <td>(0.33333333333333337, 0.65)</td>\n",
       "      <td>0.833982</td>\n",
       "    </tr>\n",
       "    <tr>\n",
       "      <th>6</th>\n",
       "      <td>machine_id_170</td>\n",
       "      <td>(0.3636363636363636, 0.08)</td>\n",
       "      <td>0.853763</td>\n",
       "    </tr>\n",
       "    <tr>\n",
       "      <th>7</th>\n",
       "      <td>machine_id_190</td>\n",
       "      <td>(0.03773584905660378, 0.0)</td>\n",
       "      <td>0.941176</td>\n",
       "    </tr>\n",
       "    <tr>\n",
       "      <th>8</th>\n",
       "      <td>machine_id_197</td>\n",
       "      <td>NaN</td>\n",
       "      <td>NaN</td>\n",
       "    </tr>\n",
       "    <tr>\n",
       "      <th>9</th>\n",
       "      <td>machine_id_210</td>\n",
       "      <td>NaN</td>\n",
       "      <td>NaN</td>\n",
       "    </tr>\n",
       "    <tr>\n",
       "      <th>10</th>\n",
       "      <td>machine_id_216</td>\n",
       "      <td>(0.034482758620689655, 0.01)</td>\n",
       "      <td>0.496749</td>\n",
       "    </tr>\n",
       "  </tbody>\n",
       "</table>\n",
       "</div>"
      ],
      "text/plain": [
       "                 value                                        PF1       AUC\n",
       "0   machine_id_overall                 (0.43645083932853723, 0.3)   0.88193\n",
       "1        machine_id_21                 (0.5027932960893856, 0.06)  0.923085\n",
       "2        machine_id_29                 (0.5323741007194244, 0.25)  0.910674\n",
       "3        machine_id_48  (0.5655172413793104, 0.35000000000000003)  0.916046\n",
       "4        machine_id_49                  (0.3869346733668341, 0.3)  0.837247\n",
       "5        machine_id_93                (0.33333333333333337, 0.65)  0.833982\n",
       "6       machine_id_170                 (0.3636363636363636, 0.08)  0.853763\n",
       "7       machine_id_190                 (0.03773584905660378, 0.0)  0.941176\n",
       "8       machine_id_197                                        NaN       NaN\n",
       "9       machine_id_210                                        NaN       NaN\n",
       "10      machine_id_216               (0.034482758620689655, 0.01)  0.496749"
      ]
     },
     "metadata": {},
     "output_type": "display_data"
    }
   ],
   "source": [
    "agg_df = aggregate_results(AuxLoss00)\n",
    "display(subgroup_analysis(agg_df, 'site'))\n",
    "display(subgroup_analysis(agg_df, 'machine_id'))\n"
   ]
  },
  {
   "cell_type": "code",
   "execution_count": 29,
   "metadata": {},
   "outputs": [
    {
     "data": {
      "text/html": [
       "<div>\n",
       "<style scoped>\n",
       "    .dataframe tbody tr th:only-of-type {\n",
       "        vertical-align: middle;\n",
       "    }\n",
       "\n",
       "    .dataframe tbody tr th {\n",
       "        vertical-align: top;\n",
       "    }\n",
       "\n",
       "    .dataframe thead th {\n",
       "        text-align: right;\n",
       "    }\n",
       "</style>\n",
       "<table border=\"1\" class=\"dataframe\">\n",
       "  <thead>\n",
       "    <tr style=\"text-align: right;\">\n",
       "      <th></th>\n",
       "      <th>value</th>\n",
       "      <th>PF1</th>\n",
       "      <th>AUC</th>\n",
       "    </tr>\n",
       "  </thead>\n",
       "  <tbody>\n",
       "    <tr>\n",
       "      <th>0</th>\n",
       "      <td>site_overall</td>\n",
       "      <td>(0.4675324675324676, 0.42)</td>\n",
       "      <td>0.903614</td>\n",
       "    </tr>\n",
       "    <tr>\n",
       "      <th>1</th>\n",
       "      <td>site_1</td>\n",
       "      <td>(0.375, 0.39)</td>\n",
       "      <td>0.870219</td>\n",
       "    </tr>\n",
       "    <tr>\n",
       "      <th>2</th>\n",
       "      <td>site_2</td>\n",
       "      <td>(0.57002457002457, 0.29)</td>\n",
       "      <td>0.930831</td>\n",
       "    </tr>\n",
       "  </tbody>\n",
       "</table>\n",
       "</div>"
      ],
      "text/plain": [
       "          value                         PF1       AUC\n",
       "0  site_overall  (0.4675324675324676, 0.42)  0.903614\n",
       "1        site_1               (0.375, 0.39)  0.870219\n",
       "2        site_2    (0.57002457002457, 0.29)  0.930831"
      ]
     },
     "metadata": {},
     "output_type": "display_data"
    },
    {
     "data": {
      "text/html": [
       "<div>\n",
       "<style scoped>\n",
       "    .dataframe tbody tr th:only-of-type {\n",
       "        vertical-align: middle;\n",
       "    }\n",
       "\n",
       "    .dataframe tbody tr th {\n",
       "        vertical-align: top;\n",
       "    }\n",
       "\n",
       "    .dataframe thead th {\n",
       "        text-align: right;\n",
       "    }\n",
       "</style>\n",
       "<table border=\"1\" class=\"dataframe\">\n",
       "  <thead>\n",
       "    <tr style=\"text-align: right;\">\n",
       "      <th></th>\n",
       "      <th>value</th>\n",
       "      <th>PF1</th>\n",
       "      <th>AUC</th>\n",
       "    </tr>\n",
       "  </thead>\n",
       "  <tbody>\n",
       "    <tr>\n",
       "      <th>0</th>\n",
       "      <td>machine_id_overall</td>\n",
       "      <td>(0.4675324675324676, 0.42)</td>\n",
       "      <td>0.903614</td>\n",
       "    </tr>\n",
       "    <tr>\n",
       "      <th>1</th>\n",
       "      <td>machine_id_21</td>\n",
       "      <td>(0.6016260162601627, 0.4)</td>\n",
       "      <td>0.936075</td>\n",
       "    </tr>\n",
       "    <tr>\n",
       "      <th>2</th>\n",
       "      <td>machine_id_29</td>\n",
       "      <td>(0.523489932885906, 0.18)</td>\n",
       "      <td>0.905955</td>\n",
       "    </tr>\n",
       "    <tr>\n",
       "      <th>3</th>\n",
       "      <td>machine_id_48</td>\n",
       "      <td>(0.611764705882353, 0.16)</td>\n",
       "      <td>0.950141</td>\n",
       "    </tr>\n",
       "    <tr>\n",
       "      <th>4</th>\n",
       "      <td>machine_id_49</td>\n",
       "      <td>(0.38482384823848237, 0.37)</td>\n",
       "      <td>0.85749</td>\n",
       "    </tr>\n",
       "    <tr>\n",
       "      <th>5</th>\n",
       "      <td>machine_id_93</td>\n",
       "      <td>(0.28571428571428575, 0.77)</td>\n",
       "      <td>0.894942</td>\n",
       "    </tr>\n",
       "    <tr>\n",
       "      <th>6</th>\n",
       "      <td>machine_id_170</td>\n",
       "      <td>(0.5333333333333333, 0.42)</td>\n",
       "      <td>0.945968</td>\n",
       "    </tr>\n",
       "    <tr>\n",
       "      <th>7</th>\n",
       "      <td>machine_id_190</td>\n",
       "      <td>(0.6666666666666666, 0.03)</td>\n",
       "      <td>0.980392</td>\n",
       "    </tr>\n",
       "    <tr>\n",
       "      <th>8</th>\n",
       "      <td>machine_id_197</td>\n",
       "      <td>NaN</td>\n",
       "      <td>NaN</td>\n",
       "    </tr>\n",
       "    <tr>\n",
       "      <th>9</th>\n",
       "      <td>machine_id_210</td>\n",
       "      <td>NaN</td>\n",
       "      <td>NaN</td>\n",
       "    </tr>\n",
       "    <tr>\n",
       "      <th>10</th>\n",
       "      <td>machine_id_216</td>\n",
       "      <td>(0.007741935483870968, 0.0)</td>\n",
       "      <td>0.547898</td>\n",
       "    </tr>\n",
       "  </tbody>\n",
       "</table>\n",
       "</div>"
      ],
      "text/plain": [
       "                 value                          PF1       AUC\n",
       "0   machine_id_overall   (0.4675324675324676, 0.42)  0.903614\n",
       "1        machine_id_21    (0.6016260162601627, 0.4)  0.936075\n",
       "2        machine_id_29    (0.523489932885906, 0.18)  0.905955\n",
       "3        machine_id_48    (0.611764705882353, 0.16)  0.950141\n",
       "4        machine_id_49  (0.38482384823848237, 0.37)   0.85749\n",
       "5        machine_id_93  (0.28571428571428575, 0.77)  0.894942\n",
       "6       machine_id_170   (0.5333333333333333, 0.42)  0.945968\n",
       "7       machine_id_190   (0.6666666666666666, 0.03)  0.980392\n",
       "8       machine_id_197                          NaN       NaN\n",
       "9       machine_id_210                          NaN       NaN\n",
       "10      machine_id_216  (0.007741935483870968, 0.0)  0.547898"
      ]
     },
     "metadata": {},
     "output_type": "display_data"
    }
   ],
   "source": [
    "agg_df = aggregate_results(Res00aug0)\n",
    "display(subgroup_analysis(agg_df, 'site'))\n",
    "display(subgroup_analysis(agg_df, 'machine_id'))\n"
   ]
  },
  {
   "cell_type": "markdown",
   "metadata": {},
   "source": [
    "# Stability analysis"
   ]
  },
  {
   "cell_type": "code",
   "execution_count": 8,
   "metadata": {},
   "outputs": [
    {
     "ename": "NameError",
     "evalue": "name 'aggregate_results' is not defined",
     "output_type": "error",
     "traceback": [
      "\u001b[0;31m---------------------------------------------------------------------------\u001b[0m",
      "\u001b[0;31mNameError\u001b[0m                                 Traceback (most recent call last)",
      "\u001b[1;32m/home/acb10673fd/kaggle/kaggle-rsna-breast-cancer/01_post_analysis.ipynb Cell 21\u001b[0m in \u001b[0;36m<cell line: 1>\u001b[0;34m()\u001b[0m\n\u001b[0;32m----> <a href='vscode-notebook-cell://ssh-remote%2Baillis_abci/home/acb10673fd/kaggle/kaggle-rsna-breast-cancer/01_post_analysis.ipynb#X26sdnNjb2RlLXJlbW90ZQ%3D%3D?line=0'>1</a>\u001b[0m res \u001b[39m=\u001b[39m aggregate_results(Baseline4)\n\u001b[1;32m      <a href='vscode-notebook-cell://ssh-remote%2Baillis_abci/home/acb10673fd/kaggle/kaggle-rsna-breast-cancer/01_post_analysis.ipynb#X26sdnNjb2RlLXJlbW90ZQ%3D%3D?line=1'>2</a>\u001b[0m res\u001b[39m.\u001b[39mhead()\n",
      "\u001b[0;31mNameError\u001b[0m: name 'aggregate_results' is not defined"
     ]
    }
   ],
   "source": [
    "res = aggregate_results(Baseline4)\n",
    "res.head()"
   ]
  },
  {
   "cell_type": "code",
   "execution_count": 12,
   "metadata": {},
   "outputs": [],
   "source": [
    "metric = Pfbeta(binarize=True)"
   ]
  },
  {
   "cell_type": "code",
   "execution_count": 14,
   "metadata": {},
   "outputs": [
    {
     "data": {
      "text/plain": [
       "(0.43966547192353644, 0.34)"
      ]
     },
     "execution_count": 14,
     "metadata": {},
     "output_type": "execute_result"
    }
   ],
   "source": [
    "metric.optimal_f1(res['label'], res['pred'])"
   ]
  },
  {
   "cell_type": "code",
   "execution_count": 15,
   "metadata": {},
   "outputs": [],
   "source": [
    "res['pred_bin'] = (res['pred'] > 0.34).astype(int)"
   ]
  },
  {
   "cell_type": "code",
   "execution_count": 24,
   "metadata": {},
   "outputs": [
    {
     "data": {
      "application/vnd.jupyter.widget-view+json": {
       "model_id": "329b5d5ed4d44b37a3256c9b5bbf9b0d",
       "version_major": 2,
       "version_minor": 0
      },
      "text/plain": [
       "  0%|          | 0/1000 [00:00<?, ?it/s]"
      ]
     },
     "metadata": {},
     "output_type": "display_data"
    }
   ],
   "source": [
    "scores = []\n",
    "for i in tqdm(range(1000)):\n",
    "    res_sample = res.sample(2200*2) # per breast\n",
    "    scores.append(metric.pfbeta(res_sample['label'].values, res_sample['pred_bin'].values))"
   ]
  },
  {
   "cell_type": "code",
   "execution_count": 25,
   "metadata": {},
   "outputs": [
    {
     "data": {
      "text/plain": [
       "<AxesSubplot:ylabel='Count'>"
      ]
     },
     "execution_count": 25,
     "metadata": {},
     "output_type": "execute_result"
    },
    {
     "data": {
      "image/png": "[encoded data removed]",
      "text/plain": [
       "<Figure size 432x288 with 1 Axes>"
      ]
     },
     "metadata": {
      "needs_background": "light"
     },
     "output_type": "display_data"
    }
   ],
   "source": [
    "sns.histplot(scores)"
   ]
  },
  {
   "cell_type": "markdown",
   "metadata": {},
   "source": [
    "# Use metadata ? "
   ]
  },
  {
   "cell_type": "code",
   "execution_count": 17,
   "metadata": {},
   "outputs": [],
   "source": [
    "from sklearn.linear_model import LogisticRegression"
   ]
  },
  {
   "cell_type": "code",
   "execution_count": 30,
   "metadata": {},
   "outputs": [
    {
     "name": "stdout",
     "output_type": "stream",
     "text": [
      "(0.425, 0.64)\n",
      "(0.42236024844720493, 0.22)\n",
      "(0.4174757281553398, 0.13)\n",
      "(0.4161849710982659, 0.05)\n",
      "(0.5681818181818182, 0.31)\n",
      "(0.5654450261780104, 0.05)\n",
      "(0.5, 0.28)\n",
      "(0.48837209302325585, 0.09)\n",
      "(0.42276422764227634, 0.65)\n",
      "(0.42975206611570244, 0.39)\n"
     ]
    }
   ],
   "source": [
    "for fold_i, (folds, pred_fold) in enumerate(zip(predictions['folds'], predictions['outoffolds'])):\n",
    "    ds = cfg.dataset(df=train.iloc[folds[1]], image_dir=None)\n",
    "    labels = ds.get_labels()\n",
    "    pred = sigmoid(pred_fold).reshape(-1)\n",
    "    print(metric.optimal_f1(labels, pred))\n",
    "    stack_x = pd.DataFrame({\n",
    "        'pred': pred,\n",
    "        'age': [ds.df_dict[ds.pids[i]]['age'].values[0] / 100 for i in range(len(ds))]\n",
    "    })\n",
    "    stack_x['age'] = stack_x['age'].fillna(stack_x['age'].mean())\n",
    "    model = LogisticRegression()\n",
    "    model.fit(stack_x, labels.reshape(-1))\n",
    "    pred2 = model.predict_proba(stack_x)[:, 1]\n",
    "    print(metric.optimal_f1(labels, pred2))\n",
    "    "
   ]
  },
  {
   "cell_type": "markdown",
   "metadata": {},
   "source": [
    "# Segmentation"
   ]
  },
  {
   "cell_type": "code",
   "execution_count": 6,
   "metadata": {},
   "outputs": [],
   "source": [
    "cfg = SegBaseline2()\n",
    "train = pd.read_csv(cfg.train_path)\n",
    "valid = train.query('split == \"test\"')\n",
    "dataset = cfg.dataset(\n",
    "    valid.loc[~valid['finding_birads'].isna()],\n",
    "    image_dir=cfg.image_dir,\n",
    "    preprocess=cfg.preprocess['test'],\n",
    "    transforms=cfg.transforms['test'],\n",
    "    is_test=True,\n",
    "    **cfg.dataset_params)"
   ]
  },
  {
   "cell_type": "code",
   "execution_count": 7,
   "metadata": {},
   "outputs": [
    {
     "data": {
      "image/png": "[encoded data removed]",
      "text/plain": [
       "<Figure size 360x360 with 1 Axes>"
      ]
     },
     "metadata": {
      "needs_background": "light"
     },
     "output_type": "display_data"
    }
   ],
   "source": [
    "img, mask = dataset[7]\n",
    "img = (img - img.min()) / (img.max() - img.min())\n",
    "plt.figure(figsize=(5, 5))\n",
    "plt.imshow(torch.concat([img, img, img], dim=0).permute(1, 2, 0) * 0.7 + mask.permute(1,2,0) * 0.3)\n",
    "plt.show()\n",
    "plt.close()"
   ]
  },
  {
   "cell_type": "code",
   "execution_count": 8,
   "metadata": {},
   "outputs": [],
   "source": [
    "model = cfg.model(**cfg.model_params)\n",
    "model.eval()\n",
    "with torch.no_grad():\n",
    "    pred = model(img[None, :, :, :])[0]"
   ]
  },
  {
   "cell_type": "code",
   "execution_count": 9,
   "metadata": {},
   "outputs": [
    {
     "data": {
      "image/png": "[encoded data removed]",
      "text/plain": [
       "<Figure size 432x288 with 1 Axes>"
      ]
     },
     "metadata": {
      "needs_background": "light"
     },
     "output_type": "display_data"
    }
   ],
   "source": [
    "img = pred.permute(1, 2, 0)\n",
    "# img = (img - img.amin()) / (img.amax() - img.amin())\n",
    "plt.imshow(img)\n",
    "plt.show()"
   ]
  },
  {
   "cell_type": "code",
   "execution_count": 10,
   "metadata": {},
   "outputs": [
    {
     "data": {
      "text/plain": [
       "tensor(0.6946)"
      ]
     },
     "execution_count": 10,
     "metadata": {},
     "output_type": "execute_result"
    }
   ],
   "source": [
    "pred[0].mean()"
   ]
  },
  {
   "cell_type": "code",
   "execution_count": null,
   "metadata": {},
   "outputs": [],
   "source": []
  }
 ],
 "metadata": {
  "kernelspec": {
   "display_name": "kumaconda22",
   "language": "python",
   "name": "python3"
  },
  "language_info": {
   "codemirror_mode": {
    "name": "ipython",
    "version": 3
   },
   "file_extension": ".py",
   "mimetype": "text/x-python",
   "name": "python",
   "nbconvert_exporter": "python",
   "pygments_lexer": "ipython3",
   "version": "3.9.12 (main, Jun  1 2022, 11:38:51) \n[GCC 7.5.0]"
  },
  "orig_nbformat": 4,
  "vscode": {
   "interpreter": {
    "hash": "df01e636841dc76853efe73a888ff447485d7406624663312d3a1e3bb89e4467"
   }
  }
 },
 "nbformat": 4,
 "nbformat_minor": 2
}
