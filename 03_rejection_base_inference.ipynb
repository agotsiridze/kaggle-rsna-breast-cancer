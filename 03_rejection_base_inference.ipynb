{
 "cells": [
  {
   "cell_type": "code",
   "execution_count": 2,
   "metadata": {},
   "outputs": [],
   "source": [
    "%load_ext autoreload\n",
    "%autoreload 2"
   ]
  },
  {
   "cell_type": "code",
   "execution_count": 3,
   "metadata": {},
   "outputs": [],
   "source": [
    "import numpy as np\n",
    "import pandas as pd\n",
    "import cv2\n",
    "from pathlib import Path\n",
    "import skimage.io as io\n",
    "import matplotlib.pyplot as plt\n",
    "import seaborn as sns\n",
    "from tqdm.auto import tqdm\n",
    "import os\n",
    "import pickle\n",
    "import pydicom\n",
    "from metrics import Pfbeta"
   ]
  },
  {
   "cell_type": "code",
   "execution_count": 4,
   "metadata": {},
   "outputs": [],
   "source": [
    "DATA_DIR = Path('input/rsna-breast-cancer-detection/')\n",
    "train = pd.read_csv(DATA_DIR/'train.csv')"
   ]
  },
  {
   "cell_type": "code",
   "execution_count": 5,
   "metadata": {},
   "outputs": [],
   "source": [
    "from configs import *\n",
    "from kuma_utils.utils import sigmoid\n",
    "from sklearn.metrics import roc_auc_score\n",
    "from metrics import *"
   ]
  },
  {
   "cell_type": "code",
   "execution_count": null,
   "metadata": {},
   "outputs": [],
   "source": []
  },
  {
   "cell_type": "markdown",
   "metadata": {},
   "source": [
    "# Simple blend"
   ]
  },
  {
   "cell_type": "code",
   "execution_count": 18,
   "metadata": {},
   "outputs": [
    {
     "data": {
      "text/html": [
       "<div>\n",
       "<style scoped>\n",
       "    .dataframe tbody tr th:only-of-type {\n",
       "        vertical-align: middle;\n",
       "    }\n",
       "\n",
       "    .dataframe tbody tr th {\n",
       "        vertical-align: top;\n",
       "    }\n",
       "\n",
       "    .dataframe thead th {\n",
       "        text-align: right;\n",
       "    }\n",
       "</style>\n",
       "<table border=\"1\" class=\"dataframe\">\n",
       "  <thead>\n",
       "    <tr style=\"text-align: right;\">\n",
       "      <th></th>\n",
       "      <th>fold</th>\n",
       "      <th>aug_07_lr0</th>\n",
       "      <th>prediction_id</th>\n",
       "      <th>site_id</th>\n",
       "      <th>target</th>\n",
       "      <th>res_02_mod3</th>\n",
       "      <th>res_02_lr0</th>\n",
       "    </tr>\n",
       "  </thead>\n",
       "  <tbody>\n",
       "    <tr>\n",
       "      <th>0</th>\n",
       "      <td>0</td>\n",
       "      <td>0.002173</td>\n",
       "      <td>49_L</td>\n",
       "      <td>1</td>\n",
       "      <td>0.0</td>\n",
       "      <td>0.001636</td>\n",
       "      <td>0.002996</td>\n",
       "    </tr>\n",
       "    <tr>\n",
       "      <th>1</th>\n",
       "      <td>0</td>\n",
       "      <td>0.001864</td>\n",
       "      <td>49_R</td>\n",
       "      <td>1</td>\n",
       "      <td>0.0</td>\n",
       "      <td>0.000749</td>\n",
       "      <td>0.001305</td>\n",
       "    </tr>\n",
       "    <tr>\n",
       "      <th>2</th>\n",
       "      <td>0</td>\n",
       "      <td>0.002714</td>\n",
       "      <td>72_L</td>\n",
       "      <td>1</td>\n",
       "      <td>0.0</td>\n",
       "      <td>0.000701</td>\n",
       "      <td>0.000846</td>\n",
       "    </tr>\n",
       "    <tr>\n",
       "      <th>3</th>\n",
       "      <td>0</td>\n",
       "      <td>0.002600</td>\n",
       "      <td>72_R</td>\n",
       "      <td>1</td>\n",
       "      <td>0.0</td>\n",
       "      <td>0.001739</td>\n",
       "      <td>0.002242</td>\n",
       "    </tr>\n",
       "    <tr>\n",
       "      <th>4</th>\n",
       "      <td>0</td>\n",
       "      <td>0.001508</td>\n",
       "      <td>105_L</td>\n",
       "      <td>2</td>\n",
       "      <td>0.0</td>\n",
       "      <td>0.008912</td>\n",
       "      <td>0.034717</td>\n",
       "    </tr>\n",
       "    <tr>\n",
       "      <th>...</th>\n",
       "      <td>...</td>\n",
       "      <td>...</td>\n",
       "      <td>...</td>\n",
       "      <td>...</td>\n",
       "      <td>...</td>\n",
       "      <td>...</td>\n",
       "      <td>...</td>\n",
       "    </tr>\n",
       "    <tr>\n",
       "      <th>23821</th>\n",
       "      <td>3</td>\n",
       "      <td>0.001559</td>\n",
       "      <td>65477_R</td>\n",
       "      <td>2</td>\n",
       "      <td>0.0</td>\n",
       "      <td>0.003317</td>\n",
       "      <td>0.001580</td>\n",
       "    </tr>\n",
       "    <tr>\n",
       "      <th>23822</th>\n",
       "      <td>3</td>\n",
       "      <td>0.001712</td>\n",
       "      <td>65495_L</td>\n",
       "      <td>1</td>\n",
       "      <td>0.0</td>\n",
       "      <td>0.001959</td>\n",
       "      <td>0.004051</td>\n",
       "    </tr>\n",
       "    <tr>\n",
       "      <th>23823</th>\n",
       "      <td>3</td>\n",
       "      <td>0.001139</td>\n",
       "      <td>65495_R</td>\n",
       "      <td>1</td>\n",
       "      <td>0.0</td>\n",
       "      <td>0.001113</td>\n",
       "      <td>0.001197</td>\n",
       "    </tr>\n",
       "    <tr>\n",
       "      <th>23824</th>\n",
       "      <td>3</td>\n",
       "      <td>0.002427</td>\n",
       "      <td>65530_L</td>\n",
       "      <td>1</td>\n",
       "      <td>0.0</td>\n",
       "      <td>0.002463</td>\n",
       "      <td>0.003995</td>\n",
       "    </tr>\n",
       "    <tr>\n",
       "      <th>23825</th>\n",
       "      <td>3</td>\n",
       "      <td>0.002776</td>\n",
       "      <td>65530_R</td>\n",
       "      <td>1</td>\n",
       "      <td>0.0</td>\n",
       "      <td>0.010546</td>\n",
       "      <td>0.004475</td>\n",
       "    </tr>\n",
       "  </tbody>\n",
       "</table>\n",
       "<p>23826 rows × 7 columns</p>\n",
       "</div>"
      ],
      "text/plain": [
       "       fold  aug_07_lr0 prediction_id  site_id  target  res_02_mod3  \\\n",
       "0         0    0.002173          49_L        1     0.0     0.001636   \n",
       "1         0    0.001864          49_R        1     0.0     0.000749   \n",
       "2         0    0.002714          72_L        1     0.0     0.000701   \n",
       "3         0    0.002600          72_R        1     0.0     0.001739   \n",
       "4         0    0.001508         105_L        2     0.0     0.008912   \n",
       "...     ...         ...           ...      ...     ...          ...   \n",
       "23821     3    0.001559       65477_R        2     0.0     0.003317   \n",
       "23822     3    0.001712       65495_L        1     0.0     0.001959   \n",
       "23823     3    0.001139       65495_R        1     0.0     0.001113   \n",
       "23824     3    0.002427       65530_L        1     0.0     0.002463   \n",
       "23825     3    0.002776       65530_R        1     0.0     0.010546   \n",
       "\n",
       "       res_02_lr0  \n",
       "0        0.002996  \n",
       "1        0.001305  \n",
       "2        0.000846  \n",
       "3        0.002242  \n",
       "4        0.034717  \n",
       "...           ...  \n",
       "23821    0.001580  \n",
       "23822    0.004051  \n",
       "23823    0.001197  \n",
       "23824    0.003995  \n",
       "23825    0.004475  \n",
       "\n",
       "[23826 rows x 7 columns]"
      ]
     },
     "execution_count": 18,
     "metadata": {},
     "output_type": "execute_result"
    }
   ],
   "source": [
    "configs_to_include = [\n",
    "    Aug07lr0(), Res02mod3(), Res02lr0()\n",
    "]\n",
    "config_names = [cfg.name for cfg in configs_to_include]\n",
    "\n",
    "for icfg, cfg in enumerate(configs_to_include):\n",
    "    df = pd.read_csv(f'input/rsna-breast-cancer-detection/oofs/kuma_{cfg.name}.csv')\n",
    "    if icfg == 0:\n",
    "        oof_df = df.rename({'pred': cfg.name}, axis=1)\n",
    "    else:\n",
    "        oof_df = oof_df.merge(df.rename({'pred': cfg.name}, axis=1), on=['prediction_id', 'site_id', 'fold', 'target'], how='left')\n",
    "\n",
    "oof_df"
   ]
  },
  {
   "cell_type": "code",
   "execution_count": 19,
   "metadata": {},
   "outputs": [],
   "source": [
    "def get_score(approx, target):\n",
    "    metric = PercentilePfbeta(percentile_range=(97.5, 99.0), n_trials=30)\n",
    "    score, percentile, threshold = metric(approx, target)\n",
    "    return score, percentile, threshold"
   ]
  },
  {
   "cell_type": "code",
   "execution_count": 20,
   "metadata": {},
   "outputs": [
    {
     "name": "stdout",
     "output_type": "stream",
     "text": [
      "0: 0.55462 (0.41671)\n",
      "1: 0.54717 (0.39315)\n",
      "2: 0.51397 (0.43118)\n",
      "3: 0.53942 (0.30551)\n",
      "Mean: 0.53879\n"
     ]
    }
   ],
   "source": [
    "scores = []\n",
    "for fold in range(4):\n",
    "    oof_fold = oof_df.query('fold == @fold')\n",
    "    blend_approx = oof_fold[config_names].mean(1).values\n",
    "    score, percentile, threshold = get_score(blend_approx, oof_fold['target'].values)\n",
    "    print(f'{fold}: {score:.5f} ({threshold:.5f})')\n",
    "    scores.append(score)\n",
    "print(f'Mean: {np.mean(scores):.5f}')\n"
   ]
  },
  {
   "cell_type": "markdown",
   "metadata": {},
   "source": [
    "# Rejection ensemble"
   ]
  },
  {
   "cell_type": "code",
   "execution_count": 81,
   "metadata": {},
   "outputs": [],
   "source": [
    "def predict_test(cfg, test, fold): # dummy\n",
    "    metric = PercentilePfbeta(percentile_range=(97.5, 99.0), n_trials=30)\n",
    "    oof = pd.read_csv(f'input/rsna-breast-cancer-detection/oofs/kuma_{cfg.name}.csv').query('fold == @fold')\n",
    "    res = test.merge(\n",
    "        oof[['prediction_id', 'site_id', 'pred']], \n",
    "        on='prediction_id', how='left')\n",
    "    thresholds = []\n",
    "    for site in [1, 2]:\n",
    "        oof_site = oof.query('site_id == @site')\n",
    "        score, _, thres = metric(oof_site['pred'].values, oof_site['target'].values)\n",
    "        thresholds.append(thres)\n",
    "    return res.rename({'pred': cfg.name}, axis=1), thresholds\n",
    "\n",
    "\n",
    "def inference_stage(configs, test_df, fold):\n",
    "    thresholds_all = []\n",
    "    model_names = []\n",
    "    for icfg, cfg in enumerate(configs):\n",
    "        results, thresholds = predict_test(cfg, test_df, fold)\n",
    "        # print(cfg.name, thresholds)\n",
    "        thresholds_all.append(thresholds)\n",
    "        model_names.append(cfg.name)\n",
    "        if icfg == 0:\n",
    "            results_all = results\n",
    "        else:\n",
    "            results_all = results_all.merge(results.drop(['site_id', 'target'], axis=1), on='prediction_id', how='left')\n",
    "    return results_all.drop('target', axis=1), thresholds_all\n",
    "\n",
    "\n",
    "def weighted_average(df, weights):\n",
    "    assert df.shape[1] == len(weights)\n",
    "    res = np.zeros(df.shape[0])\n",
    "    for i in range(len(weights)):\n",
    "        res += df.iloc[:, i].values * weights[i] / sum(weights)\n",
    "    return res"
   ]
  },
  {
   "cell_type": "code",
   "execution_count": 105,
   "metadata": {},
   "outputs": [
    {
     "data": {
      "text/plain": [
       "(  prediction_id  cancer  fold\n",
       " 0       10006_L       0     0\n",
       " 1       10006_R       0     0\n",
       " 2       10011_L       0     3\n",
       " 3       10011_R       0     3\n",
       " 4       10025_L       0     2,\n",
       " (23826, 3))"
      ]
     },
     "execution_count": 105,
     "metadata": {},
     "output_type": "execute_result"
    }
   ],
   "source": [
    "ensemble_configs = [\n",
    "    {\n",
    "        'configs': [Res02mod3(), Aug07lr0()],\n",
    "        'global_weights': [1, 1],\n",
    "        'drop_rate': 0.50,\n",
    "        'criteria': 'low value',\n",
    "    },\n",
    "    {\n",
    "        'configs': [Res02lr0(), Aug07lr0pl0()],\n",
    "        'global_weights': [1, 1],\n",
    "        'drop_rate': 0.5,\n",
    "        'criteria': 'low value',\n",
    "    },\n",
    "    {\n",
    "        'configs': [Res02pl1(), Res02mod3pl0(), Res02mod2()],\n",
    "        'global_weights': [1, 1, 1],\n",
    "        'drop_rate': None,\n",
    "        'criteria': 'low value',\n",
    "    },\n",
    "]\n",
    "\n",
    "THRESHOLD_MODE = 'OOF_MEAN_PER_SITE'\n",
    "assert THRESHOLD_MODE in [\n",
    "    'OOF', 'OOF_PER_SITE', 'OOF_MEAN_PER_SITE',\n",
    "    'PROPORTIONAL', 'PROPORTIONAL_PER_SITE', \n",
    "    'PROPORTIONAL_MEAN', 'PROPORTIONAL_MEAN_PER_SITE']\n",
    "\n",
    "metric = PercentilePfbeta(percentile_range=(97.5, 99.0), n_trials=30)\n",
    "\n",
    "\n",
    "train = pd.read_csv('train_with_fold.csv')\n",
    "train['prediction_id'] = train['patient_id'].astype(str) + '_' + train['laterality']\n",
    "train = train.groupby('prediction_id').agg({'cancer': 'max', 'fold': 'max'}).reset_index()\n",
    "train.head(), train.shape"
   ]
  },
  {
   "cell_type": "code",
   "execution_count": 106,
   "metadata": {},
   "outputs": [
    {
     "name": "stdout",
     "output_type": "stream",
     "text": [
      "[STAGE 0: 5956 records] \n",
      "0 (5956, 4)\n",
      "[STAGE 1: 2978 records] \n",
      "1 (2978, 7)\n",
      "[STAGE 2: 1489 records] \n",
      "2 (1489, 10)\n",
      "[0.57353503 0.49449142]\n",
      "FOLD 0: 0.53636\n",
      "[STAGE 0: 5958 records] \n",
      "0 (5958, 4)\n",
      "[STAGE 1: 2979 records] \n",
      "1 (2979, 7)\n",
      "[STAGE 2: 1489 records] \n",
      "2 (1489, 10)\n",
      "[0.5049346  0.49229196]\n",
      "FOLD 1: 0.54922\n",
      "[STAGE 0: 5956 records] \n",
      "0 (5956, 4)\n",
      "[STAGE 1: 2978 records] \n",
      "1 (2978, 7)\n",
      "[STAGE 2: 1489 records] \n",
      "2 (1489, 10)\n",
      "[0.4848704  0.40665034]\n",
      "FOLD 2: 0.52381\n",
      "[STAGE 0: 5956 records] \n",
      "0 (5956, 4)\n",
      "[STAGE 1: 2978 records] \n",
      "1 (2978, 7)\n",
      "[STAGE 2: 1489 records] \n",
      "2 (1489, 10)\n",
      "[0.46473561 0.43976252]\n",
      "FOLD 3: 0.50943\n"
     ]
    }
   ],
   "source": [
    "all_scores = []\n",
    "for fold in range(4):\n",
    "   test = train.query('fold == @fold').drop('fold', axis=1).rename({'cancer': 'target'}, axis=1)\n",
    "   test2 = test.copy()\n",
    "   weights_all = []\n",
    "   models_all = []\n",
    "   thresholds_all = []\n",
    "   final_results = []\n",
    "   for istage, stage_cfg in enumerate(ensemble_configs):\n",
    "      print(f'[STAGE {istage}: {len(test2)} records] ')\n",
    "      models_all += [cfg.name for cfg in stage_cfg['configs']]\n",
    "      weights_all += stage_cfg['global_weights']\n",
    "      \n",
    "      results_stage, thresholds_stage = inference_stage(stage_cfg['configs'], test2, fold)\n",
    "      thresholds_all += thresholds_stage\n",
    "      if istage == 0:\n",
    "         results_all = results_stage\n",
    "      else:\n",
    "         results_all = results_all.merge(results_stage, on=['prediction_id', 'site_id'], how='inner')\n",
    "      print(istage, results_all.shape)\n",
    "      results_all['cancer'] = weighted_average(\n",
    "         results_all[models_all], weights_all)\n",
    "      if stage_cfg['criteria'] == 'low value':\n",
    "         if stage_cfg['drop_rate'] is not None:\n",
    "               drop_results = results_all.loc[\n",
    "                  results_all['cancer'] <= np.percentile(results_all['cancer'], stage_cfg['drop_rate']*100)].copy()\n",
    "               drop_results['cancer'] = 0.\n",
    "               final_results.append(drop_results)\n",
    "               test2 = test2.loc[~test2['prediction_id'].isin(drop_results['prediction_id'])]\n",
    "         else: # final stage\n",
    "               thresholds = np.average(np.array(thresholds_all), axis=0, weights=weights_all)\n",
    "               print(thresholds)\n",
    "               results_all.loc[results_all['site_id'] == 1, 'cancer'] = \\\n",
    "                  (results_all.loc[results_all['site_id'] == 1, 'cancer'] > thresholds[0]).astype(float)\n",
    "               results_all.loc[results_all['site_id'] == 2, 'cancer'] = \\\n",
    "                  (results_all.loc[results_all['site_id'] == 2, 'cancer'] > thresholds[1]).astype(float)\n",
    "               final_results.append(results_all)\n",
    "      else:\n",
    "         raise NotImplementedError()\n",
    "   final_results = pd.concat(final_results, axis=0)\n",
    "   test = test.merge(final_results[['prediction_id', 'cancer']], on='prediction_id', how='left')\n",
    "   score = metric.pfbeta(test['target'].values, test['cancer'].values)\n",
    "   print(f'FOLD {fold}: {score:.5f}')\n",
    "   all_scores.append(score)"
   ]
  },
  {
   "cell_type": "code",
   "execution_count": 107,
   "metadata": {},
   "outputs": [
    {
     "data": {
      "text/plain": [
       "[0.5363636363636363,\n",
       " 0.5492227979274611,\n",
       " 0.5238095238095237,\n",
       " 0.5094339622641509]"
      ]
     },
     "execution_count": 107,
     "metadata": {},
     "output_type": "execute_result"
    }
   ],
   "source": [
    "all_scores"
   ]
  },
  {
   "cell_type": "code",
   "execution_count": 108,
   "metadata": {},
   "outputs": [
    {
     "data": {
      "text/plain": [
       "0.5297074800911931"
      ]
     },
     "execution_count": 108,
     "metadata": {},
     "output_type": "execute_result"
    }
   ],
   "source": [
    "np.mean(all_scores)"
   ]
  },
  {
   "cell_type": "code",
   "execution_count": null,
   "metadata": {},
   "outputs": [],
   "source": []
  }
 ],
 "metadata": {
  "kernelspec": {
   "display_name": "kumaconda22",
   "language": "python",
   "name": "python3"
  },
  "language_info": {
   "codemirror_mode": {
    "name": "ipython",
    "version": 3
   },
   "file_extension": ".py",
   "mimetype": "text/x-python",
   "name": "python",
   "nbconvert_exporter": "python",
   "pygments_lexer": "ipython3",
   "version": "3.9.12"
  },
  "orig_nbformat": 4,
  "vscode": {
   "interpreter": {
    "hash": "df01e636841dc76853efe73a888ff447485d7406624663312d3a1e3bb89e4467"
   }
  }
 },
 "nbformat": 4,
 "nbformat_minor": 2
}
