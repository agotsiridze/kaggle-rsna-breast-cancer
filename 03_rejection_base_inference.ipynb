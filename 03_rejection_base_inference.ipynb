{
 "cells": [
  {
   "cell_type": "code",
   "execution_count": 1,
   "metadata": {},
   "outputs": [],
   "source": [
    "%load_ext autoreload\n",
    "%autoreload 2"
   ]
  },
  {
   "cell_type": "code",
   "execution_count": 2,
   "metadata": {},
   "outputs": [],
   "source": [
    "import numpy as np\n",
    "import pandas as pd\n",
    "import cv2\n",
    "from pathlib import Path\n",
    "import skimage.io as io\n",
    "import matplotlib.pyplot as plt\n",
    "import seaborn as sns\n",
    "from tqdm.auto import tqdm\n",
    "import os\n",
    "import pickle\n",
    "import pydicom\n",
    "from metrics import Pfbeta"
   ]
  },
  {
   "cell_type": "code",
   "execution_count": 3,
   "metadata": {},
   "outputs": [],
   "source": [
    "DATA_DIR = Path('input/rsna-breast-cancer-detection/')\n",
    "train = pd.read_csv(DATA_DIR/'train.csv')"
   ]
  },
  {
   "cell_type": "code",
   "execution_count": 10,
   "metadata": {},
   "outputs": [],
   "source": [
    "from configs import *\n",
    "from kuma_utils.utils import sigmoid\n",
    "from sklearn.metrics import roc_auc_score\n",
    "from metrics import *"
   ]
  },
  {
   "cell_type": "code",
   "execution_count": 11,
   "metadata": {},
   "outputs": [],
   "source": [
    "configs_first = {\n",
    "    'cfgs': [Baseline4mod0()],\n",
    "    'weights': [1],\n",
    "    'percentiles': [60, None]\n",
    "}\n",
    "configs_second = {\n",
    "    'cfgs': [Aug07()],\n",
    "    'weights': [2],\n",
    "    'percentiles': [50, None]\n",
    "}\n",
    "configs_third = {\n",
    "    'cfgs': [AuxLoss02v0(), Res02Aux0()],\n",
    "    'weights': [2, 2],\n",
    "}\n"
   ]
  },
  {
   "cell_type": "code",
   "execution_count": 12,
   "metadata": {},
   "outputs": [],
   "source": [
    "def predict_test(cfg, fold): # dummy\n",
    "    with open(f'results/{cfg.name}/predictions.pickle', 'rb') as f:\n",
    "        predictions = pickle.load(f)\n",
    "    if 'targets' in predictions.keys():\n",
    "        target = predictions['targets'][fold]\n",
    "    else:\n",
    "        target = None\n",
    "    return sigmoid(predictions['outoffolds'][fold]), target\n",
    "\n",
    "\n",
    "def weighted_average(df, weights):\n",
    "    assert df.shape[1] == len(weights)\n",
    "    res = np.zeros(df.shape[0])\n",
    "    for i in range(len(weights)):\n",
    "        res += df.iloc[:, i].values * weights[i] / sum(weights)\n",
    "    return res"
   ]
  },
  {
   "cell_type": "code",
   "execution_count": 13,
   "metadata": {},
   "outputs": [],
   "source": [
    "pf1 = Pfbeta(binarize=False)\n",
    "pf1_bin = Pfbeta(return_thres=True)\n"
   ]
  },
  {
   "cell_type": "code",
   "execution_count": 14,
   "metadata": {},
   "outputs": [
    {
     "name": "stdout",
     "output_type": "stream",
     "text": [
      "Num passed stage 1:  2382\n",
      "Num passed stage 2:  1191\n",
      "0 ref (0.5164319248826291, 0.41000000000000003)\n",
      "0 0.39920842128473494 (0.5164319248826291, 0.41000000000000003)\n",
      "Num passed stage 1:  2383\n",
      "Num passed stage 2:  1191\n",
      "1 ref (0.5302325581395348, 0.25)\n",
      "1 0.3730773884604484 (0.5327102803738318, 0.25)\n",
      "Num passed stage 1:  2382\n",
      "Num passed stage 2:  1191\n",
      "2 ref (0.5000000000000001, 0.3)\n",
      "2 0.3662673609233155 (0.5000000000000001, 0.3)\n",
      "Num passed stage 1:  2382\n",
      "Num passed stage 2:  1191\n",
      "3 ref (0.4827586206896552, 0.26)\n",
      "3 0.33532665345876567 (0.4827586206896552, 0.26)\n"
     ]
    }
   ],
   "source": [
    "# fold = 0\n",
    "\n",
    "for fold in range(4):\n",
    "    preds = {}\n",
    "    preds_cols = []\n",
    "    weights = []\n",
    "    for cfg, w in zip(configs_first['cfgs'], configs_first['weights']):\n",
    "        pred, target = predict_test(cfg, fold)\n",
    "        preds[cfg.name] = pred.reshape(-1)\n",
    "        preds_cols.append(cfg.name)\n",
    "        weights.append(w)\n",
    "    preds = pd.DataFrame(preds)\n",
    "    preds['mask'] = -1\n",
    "    preds['ensemble'] = weighted_average(preds[preds_cols], weights)\n",
    "    preds_ens = preds['ensemble']\n",
    "    preds.loc[preds_ens <= np.percentile(preds_ens, configs_first['percentiles'][0]), 'mask'] = 0\n",
    "    if configs_first['percentiles'][1] is not None:\n",
    "        preds.loc[preds_ens >= np.percentile(preds_ens, configs_first['percentiles'][1]), 'mask'] = 1\n",
    "    print('Num passed stage 1: ', (preds['mask'] == -1).sum())\n",
    "\n",
    "    for cfg, w in zip(configs_second['cfgs'], configs_second['weights']):\n",
    "        pred, _ = predict_test(cfg, fold)\n",
    "        preds[cfg.name] = pred.reshape(-1)\n",
    "        preds_cols.append(cfg.name)\n",
    "        weights.append(w)\n",
    "    preds['ensemble'] = weighted_average(preds[preds_cols], weights)\n",
    "    preds_ens = preds['ensemble']\n",
    "    preds.loc[\n",
    "        (preds_ens <= np.percentile(preds.query('mask == -1')['ensemble'], configs_second['percentiles'][0])) & (preds['mask'] == -1),  'mask'] = 0\n",
    "    if configs_second['percentiles'][1] is not None:\n",
    "        preds.loc[\n",
    "            (preds_ens >= np.percentile(preds.query('mask == -1')['ensemble'], configs_second['percentiles'][1])) & (preds['mask'] == -1),  'mask'] = 1\n",
    "    print('Num passed stage 2: ', (preds['mask'] == -1).sum())\n",
    "\n",
    "\n",
    "    for cfg, w in zip(configs_third['cfgs'], configs_third['weights']):\n",
    "        pred, _ = predict_test(cfg, fold)\n",
    "        preds[cfg.name] = pred.reshape(-1)\n",
    "        preds_cols.append(cfg.name)\n",
    "        weights.append(w)\n",
    "    preds['target'] = target\n",
    "    preds['ensemble'] = weighted_average(preds[preds_cols], weights)\n",
    "    print(fold, 'ref', pf1_bin(preds['ensemble'], preds['target']))\n",
    "    preds.loc[preds['mask'] == 0, 'ensemble'] = 0\n",
    "    preds.loc[preds['mask'] == 1, 'ensemble'] = 1\n",
    "    print(fold, pf1(preds['ensemble'], preds['target']), pf1_bin(preds['ensemble'], preds['target']))"
   ]
  },
  {
   "cell_type": "code",
   "execution_count": null,
   "metadata": {},
   "outputs": [],
   "source": []
  }
 ],
 "metadata": {
  "kernelspec": {
   "display_name": "kumaconda22",
   "language": "python",
   "name": "python3"
  },
  "language_info": {
   "codemirror_mode": {
    "name": "ipython",
    "version": 3
   },
   "file_extension": ".py",
   "mimetype": "text/x-python",
   "name": "python",
   "nbconvert_exporter": "python",
   "pygments_lexer": "ipython3",
   "version": "3.9.12"
  },
  "orig_nbformat": 4,
  "vscode": {
   "interpreter": {
    "hash": "df01e636841dc76853efe73a888ff447485d7406624663312d3a1e3bb89e4467"
   }
  }
 },
 "nbformat": 4,
 "nbformat_minor": 2
}
