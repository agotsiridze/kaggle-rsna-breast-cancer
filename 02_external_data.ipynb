{
 "cells": [
  {
   "cell_type": "code",
   "execution_count": 1,
   "metadata": {},
   "outputs": [],
   "source": [
    "%load_ext autoreload\n",
    "%autoreload 2"
   ]
  },
  {
   "cell_type": "code",
   "execution_count": 2,
   "metadata": {},
   "outputs": [],
   "source": [
    "import numpy as np\n",
    "import pandas as pd"
   ]
  },
  {
   "cell_type": "code",
   "execution_count": 43,
   "metadata": {},
   "outputs": [],
   "source": [
    "metadata = pd.read_csv('input/rsna-breast-cancer-detection/vindr_mammo/vindr-mammo-a-large-scale-benchmark-dataset-for-computer-aided-detection-and-diagnosis-in-full-field-digital-mammography-1.0.0/metadata.csv')\n",
    "breast_anno = pd.read_csv('input/rsna-breast-cancer-detection/vindr_mammo/vindr-mammo-a-large-scale-benchmark-dataset-for-computer-aided-detection-and-diagnosis-in-full-field-digital-mammography-1.0.0/breast-level_annotations.csv')\n",
    "finding_anno = pd.read_csv('input/rsna-breast-cancer-detection/vindr_mammo/vindr-mammo-a-large-scale-benchmark-dataset-for-computer-aided-detection-and-diagnosis-in-full-field-digital-mammography-1.0.0/finding_annotations.csv')"
   ]
  },
  {
   "cell_type": "code",
   "execution_count": 44,
   "metadata": {},
   "outputs": [
    {
     "data": {
      "text/html": [
       "<div>\n",
       "<style scoped>\n",
       "    .dataframe tbody tr th:only-of-type {\n",
       "        vertical-align: middle;\n",
       "    }\n",
       "\n",
       "    .dataframe tbody tr th {\n",
       "        vertical-align: top;\n",
       "    }\n",
       "\n",
       "    .dataframe thead th {\n",
       "        text-align: right;\n",
       "    }\n",
       "</style>\n",
       "<table border=\"1\" class=\"dataframe\">\n",
       "  <thead>\n",
       "    <tr style=\"text-align: right;\">\n",
       "      <th></th>\n",
       "      <th>study_id</th>\n",
       "      <th>series_id</th>\n",
       "      <th>image_id</th>\n",
       "      <th>laterality</th>\n",
       "      <th>view_position</th>\n",
       "      <th>height</th>\n",
       "      <th>width</th>\n",
       "      <th>breast_birads</th>\n",
       "      <th>breast_density</th>\n",
       "      <th>split</th>\n",
       "    </tr>\n",
       "  </thead>\n",
       "  <tbody>\n",
       "    <tr>\n",
       "      <th>0</th>\n",
       "      <td>b8d273e8601f348d3664778dae0e7e0b</td>\n",
       "      <td>b36517b9cbbcfd286a7ae04f643af97a</td>\n",
       "      <td>d8125545210c08e1b1793a5af6458ee2</td>\n",
       "      <td>L</td>\n",
       "      <td>CC</td>\n",
       "      <td>3518</td>\n",
       "      <td>2800</td>\n",
       "      <td>BI-RADS 2</td>\n",
       "      <td>DENSITY C</td>\n",
       "      <td>training</td>\n",
       "    </tr>\n",
       "    <tr>\n",
       "      <th>1</th>\n",
       "      <td>b8d273e8601f348d3664778dae0e7e0b</td>\n",
       "      <td>b36517b9cbbcfd286a7ae04f643af97a</td>\n",
       "      <td>290c658f4e75a3f83ec78a847414297c</td>\n",
       "      <td>L</td>\n",
       "      <td>MLO</td>\n",
       "      <td>3518</td>\n",
       "      <td>2800</td>\n",
       "      <td>BI-RADS 2</td>\n",
       "      <td>DENSITY C</td>\n",
       "      <td>training</td>\n",
       "    </tr>\n",
       "    <tr>\n",
       "      <th>2</th>\n",
       "      <td>b8d273e8601f348d3664778dae0e7e0b</td>\n",
       "      <td>b36517b9cbbcfd286a7ae04f643af97a</td>\n",
       "      <td>cd0fc7bc53ac632a11643ac4cc91002a</td>\n",
       "      <td>R</td>\n",
       "      <td>CC</td>\n",
       "      <td>3518</td>\n",
       "      <td>2800</td>\n",
       "      <td>BI-RADS 2</td>\n",
       "      <td>DENSITY C</td>\n",
       "      <td>training</td>\n",
       "    </tr>\n",
       "    <tr>\n",
       "      <th>3</th>\n",
       "      <td>b8d273e8601f348d3664778dae0e7e0b</td>\n",
       "      <td>b36517b9cbbcfd286a7ae04f643af97a</td>\n",
       "      <td>71638b1e853799f227492bfb08a01491</td>\n",
       "      <td>R</td>\n",
       "      <td>MLO</td>\n",
       "      <td>3518</td>\n",
       "      <td>2800</td>\n",
       "      <td>BI-RADS 2</td>\n",
       "      <td>DENSITY C</td>\n",
       "      <td>training</td>\n",
       "    </tr>\n",
       "    <tr>\n",
       "      <th>4</th>\n",
       "      <td>8269f5971eaca3e5d3772d1796e6bd7a</td>\n",
       "      <td>d931832a0815df082c085b6e09d20aac</td>\n",
       "      <td>dd9ce3288c0773e006a294188aadba8e</td>\n",
       "      <td>L</td>\n",
       "      <td>CC</td>\n",
       "      <td>3518</td>\n",
       "      <td>2800</td>\n",
       "      <td>BI-RADS 1</td>\n",
       "      <td>DENSITY C</td>\n",
       "      <td>training</td>\n",
       "    </tr>\n",
       "  </tbody>\n",
       "</table>\n",
       "</div>"
      ],
      "text/plain": [
       "                           study_id                         series_id  \\\n",
       "0  b8d273e8601f348d3664778dae0e7e0b  b36517b9cbbcfd286a7ae04f643af97a   \n",
       "1  b8d273e8601f348d3664778dae0e7e0b  b36517b9cbbcfd286a7ae04f643af97a   \n",
       "2  b8d273e8601f348d3664778dae0e7e0b  b36517b9cbbcfd286a7ae04f643af97a   \n",
       "3  b8d273e8601f348d3664778dae0e7e0b  b36517b9cbbcfd286a7ae04f643af97a   \n",
       "4  8269f5971eaca3e5d3772d1796e6bd7a  d931832a0815df082c085b6e09d20aac   \n",
       "\n",
       "                           image_id laterality view_position  height  width  \\\n",
       "0  d8125545210c08e1b1793a5af6458ee2          L            CC    3518   2800   \n",
       "1  290c658f4e75a3f83ec78a847414297c          L           MLO    3518   2800   \n",
       "2  cd0fc7bc53ac632a11643ac4cc91002a          R            CC    3518   2800   \n",
       "3  71638b1e853799f227492bfb08a01491          R           MLO    3518   2800   \n",
       "4  dd9ce3288c0773e006a294188aadba8e          L            CC    3518   2800   \n",
       "\n",
       "  breast_birads breast_density     split  \n",
       "0     BI-RADS 2      DENSITY C  training  \n",
       "1     BI-RADS 2      DENSITY C  training  \n",
       "2     BI-RADS 2      DENSITY C  training  \n",
       "3     BI-RADS 2      DENSITY C  training  \n",
       "4     BI-RADS 1      DENSITY C  training  "
      ]
     },
     "execution_count": 44,
     "metadata": {},
     "output_type": "execute_result"
    }
   ],
   "source": [
    "breast_anno.head()"
   ]
  },
  {
   "cell_type": "code",
   "execution_count": 45,
   "metadata": {},
   "outputs": [
    {
     "data": {
      "text/plain": [
       "SIEMENS              15244\n",
       "Planmed               3796\n",
       "IMS s.r.l.             736\n",
       "IMS GIOTTO S.p.A.      224\n",
       "Name: Manufacturer, dtype: int64"
      ]
     },
     "execution_count": 45,
     "metadata": {},
     "output_type": "execute_result"
    }
   ],
   "source": [
    "metadata['Manufacturer'].value_counts()"
   ]
  },
  {
   "cell_type": "code",
   "execution_count": 46,
   "metadata": {},
   "outputs": [
    {
     "data": {
      "text/plain": [
       "Mammomat Inspiration    15244\n",
       "Planmed Nuance           3796\n",
       "GIOTTO CLASS              628\n",
       "GIOTTO IMAGE 3DL          332\n",
       "Name: Manufacturer's Model Name, dtype: int64"
      ]
     },
     "execution_count": 46,
     "metadata": {},
     "output_type": "execute_result"
    }
   ],
   "source": [
    "metadata['Manufacturer\\'s Model Name'].value_counts()"
   ]
  },
  {
   "cell_type": "code",
   "execution_count": 47,
   "metadata": {},
   "outputs": [
    {
     "data": {
      "text/plain": [
       "BI-RADS 1    13406\n",
       "BI-RADS 2     4676\n",
       "BI-RADS 3      930\n",
       "BI-RADS 4      762\n",
       "BI-RADS 5      226\n",
       "Name: breast_birads, dtype: int64"
      ]
     },
     "execution_count": 47,
     "metadata": {},
     "output_type": "execute_result"
    }
   ],
   "source": [
    "breast_anno['breast_birads'].value_counts()"
   ]
  },
  {
   "cell_type": "code",
   "execution_count": 8,
   "metadata": {},
   "outputs": [
    {
     "data": {
      "text/plain": [
       "DENSITY C    15292\n",
       "DENSITY D     2700\n",
       "DENSITY B     1908\n",
       "DENSITY A      100\n",
       "Name: breast_density, dtype: int64"
      ]
     },
     "execution_count": 8,
     "metadata": {},
     "output_type": "execute_result"
    }
   ],
   "source": [
    "breast_anno['breast_density'].value_counts()"
   ]
  },
  {
   "cell_type": "code",
   "execution_count": 53,
   "metadata": {},
   "outputs": [
    {
     "data": {
      "text/html": [
       "<div>\n",
       "<style scoped>\n",
       "    .dataframe tbody tr th:only-of-type {\n",
       "        vertical-align: middle;\n",
       "    }\n",
       "\n",
       "    .dataframe tbody tr th {\n",
       "        vertical-align: top;\n",
       "    }\n",
       "\n",
       "    .dataframe thead th {\n",
       "        text-align: right;\n",
       "    }\n",
       "</style>\n",
       "<table border=\"1\" class=\"dataframe\">\n",
       "  <thead>\n",
       "    <tr style=\"text-align: right;\">\n",
       "      <th></th>\n",
       "      <th>image_id</th>\n",
       "      <th>age</th>\n",
       "      <th>machine_id</th>\n",
       "    </tr>\n",
       "  </thead>\n",
       "  <tbody>\n",
       "    <tr>\n",
       "      <th>0</th>\n",
       "      <td>d8125545210c08e1b1793a5af6458ee2</td>\n",
       "      <td>53.0</td>\n",
       "      <td>Mammomat Inspiration</td>\n",
       "    </tr>\n",
       "    <tr>\n",
       "      <th>1</th>\n",
       "      <td>290c658f4e75a3f83ec78a847414297c</td>\n",
       "      <td>53.0</td>\n",
       "      <td>Mammomat Inspiration</td>\n",
       "    </tr>\n",
       "    <tr>\n",
       "      <th>2</th>\n",
       "      <td>cd0fc7bc53ac632a11643ac4cc91002a</td>\n",
       "      <td>53.0</td>\n",
       "      <td>Mammomat Inspiration</td>\n",
       "    </tr>\n",
       "    <tr>\n",
       "      <th>3</th>\n",
       "      <td>71638b1e853799f227492bfb08a01491</td>\n",
       "      <td>53.0</td>\n",
       "      <td>Mammomat Inspiration</td>\n",
       "    </tr>\n",
       "    <tr>\n",
       "      <th>4</th>\n",
       "      <td>dd9ce3288c0773e006a294188aadba8e</td>\n",
       "      <td>42.0</td>\n",
       "      <td>Mammomat Inspiration</td>\n",
       "    </tr>\n",
       "  </tbody>\n",
       "</table>\n",
       "</div>"
      ],
      "text/plain": [
       "                           image_id   age            machine_id\n",
       "0  d8125545210c08e1b1793a5af6458ee2  53.0  Mammomat Inspiration\n",
       "1  290c658f4e75a3f83ec78a847414297c  53.0  Mammomat Inspiration\n",
       "2  cd0fc7bc53ac632a11643ac4cc91002a  53.0  Mammomat Inspiration\n",
       "3  71638b1e853799f227492bfb08a01491  53.0  Mammomat Inspiration\n",
       "4  dd9ce3288c0773e006a294188aadba8e  42.0  Mammomat Inspiration"
      ]
     },
     "execution_count": 53,
     "metadata": {},
     "output_type": "execute_result"
    }
   ],
   "source": [
    "metadata2 = metadata.rename(\n",
    "    {'SOP Instance UID.1': 'image_id', 'Patient\\'s Age': 'age' , 'Manufacturer\\'s Model Name': 'machine_id'}, \n",
    "    axis=1)[['image_id', 'age', 'machine_id']]\n",
    "metadata2['age'] = metadata2['age'].str[:-1].astype(float)\n",
    "metadata2.head()"
   ]
  },
  {
   "cell_type": "code",
   "execution_count": 54,
   "metadata": {},
   "outputs": [
    {
     "data": {
      "text/html": [
       "<div>\n",
       "<style scoped>\n",
       "    .dataframe tbody tr th:only-of-type {\n",
       "        vertical-align: middle;\n",
       "    }\n",
       "\n",
       "    .dataframe tbody tr th {\n",
       "        vertical-align: top;\n",
       "    }\n",
       "\n",
       "    .dataframe thead th {\n",
       "        text-align: right;\n",
       "    }\n",
       "</style>\n",
       "<table border=\"1\" class=\"dataframe\">\n",
       "  <thead>\n",
       "    <tr style=\"text-align: right;\">\n",
       "      <th></th>\n",
       "      <th>patient_id</th>\n",
       "      <th>image_id</th>\n",
       "      <th>view</th>\n",
       "      <th>laterality</th>\n",
       "      <th>view</th>\n",
       "      <th>BIRADS</th>\n",
       "      <th>density</th>\n",
       "      <th>is_test</th>\n",
       "    </tr>\n",
       "  </thead>\n",
       "  <tbody>\n",
       "    <tr>\n",
       "      <th>0</th>\n",
       "      <td>b8d273e8601f348d3664778dae0e7e0b</td>\n",
       "      <td>d8125545210c08e1b1793a5af6458ee2</td>\n",
       "      <td>CC</td>\n",
       "      <td>L</td>\n",
       "      <td>CC</td>\n",
       "      <td>2</td>\n",
       "      <td>C</td>\n",
       "      <td>0</td>\n",
       "    </tr>\n",
       "    <tr>\n",
       "      <th>1</th>\n",
       "      <td>b8d273e8601f348d3664778dae0e7e0b</td>\n",
       "      <td>290c658f4e75a3f83ec78a847414297c</td>\n",
       "      <td>MLO</td>\n",
       "      <td>L</td>\n",
       "      <td>MLO</td>\n",
       "      <td>2</td>\n",
       "      <td>C</td>\n",
       "      <td>0</td>\n",
       "    </tr>\n",
       "    <tr>\n",
       "      <th>2</th>\n",
       "      <td>b8d273e8601f348d3664778dae0e7e0b</td>\n",
       "      <td>cd0fc7bc53ac632a11643ac4cc91002a</td>\n",
       "      <td>CC</td>\n",
       "      <td>R</td>\n",
       "      <td>CC</td>\n",
       "      <td>2</td>\n",
       "      <td>C</td>\n",
       "      <td>0</td>\n",
       "    </tr>\n",
       "    <tr>\n",
       "      <th>3</th>\n",
       "      <td>b8d273e8601f348d3664778dae0e7e0b</td>\n",
       "      <td>71638b1e853799f227492bfb08a01491</td>\n",
       "      <td>MLO</td>\n",
       "      <td>R</td>\n",
       "      <td>MLO</td>\n",
       "      <td>2</td>\n",
       "      <td>C</td>\n",
       "      <td>0</td>\n",
       "    </tr>\n",
       "    <tr>\n",
       "      <th>4</th>\n",
       "      <td>8269f5971eaca3e5d3772d1796e6bd7a</td>\n",
       "      <td>dd9ce3288c0773e006a294188aadba8e</td>\n",
       "      <td>CC</td>\n",
       "      <td>L</td>\n",
       "      <td>CC</td>\n",
       "      <td>1</td>\n",
       "      <td>C</td>\n",
       "      <td>0</td>\n",
       "    </tr>\n",
       "  </tbody>\n",
       "</table>\n",
       "</div>"
      ],
      "text/plain": [
       "                         patient_id                          image_id view  \\\n",
       "0  b8d273e8601f348d3664778dae0e7e0b  d8125545210c08e1b1793a5af6458ee2   CC   \n",
       "1  b8d273e8601f348d3664778dae0e7e0b  290c658f4e75a3f83ec78a847414297c  MLO   \n",
       "2  b8d273e8601f348d3664778dae0e7e0b  cd0fc7bc53ac632a11643ac4cc91002a   CC   \n",
       "3  b8d273e8601f348d3664778dae0e7e0b  71638b1e853799f227492bfb08a01491  MLO   \n",
       "4  8269f5971eaca3e5d3772d1796e6bd7a  dd9ce3288c0773e006a294188aadba8e   CC   \n",
       "\n",
       "  laterality view  BIRADS density  is_test  \n",
       "0          L   CC       2       C        0  \n",
       "1          L  MLO       2       C        0  \n",
       "2          R   CC       2       C        0  \n",
       "3          R  MLO       2       C        0  \n",
       "4          L   CC       1       C        0  "
      ]
     },
     "execution_count": 54,
     "metadata": {},
     "output_type": "execute_result"
    }
   ],
   "source": [
    "breast_anno2 = breast_anno.rename({\n",
    "    'study_id': 'patient_id', 'view_position': 'view', 'breast_birads': 'BIRADS', 'breast_density': 'density', 'split': 'is_test'\n",
    "}, axis=1)[['patient_id', 'image_id', 'view', 'laterality', 'view', 'BIRADS', 'density', 'is_test']]\n",
    "breast_anno2['BIRADS'] = breast_anno2['BIRADS'].str[-1].astype(int)\n",
    "breast_anno2['density'] = breast_anno2['density'].str[-1]\n",
    "breast_anno2['is_test'] = (breast_anno2['is_test'] == 'test').astype(int)\n",
    "breast_anno2.head()"
   ]
  },
  {
   "cell_type": "code",
   "execution_count": 64,
   "metadata": {},
   "outputs": [
    {
     "data": {
      "text/html": [
       "<div>\n",
       "<style scoped>\n",
       "    .dataframe tbody tr th:only-of-type {\n",
       "        vertical-align: middle;\n",
       "    }\n",
       "\n",
       "    .dataframe tbody tr th {\n",
       "        vertical-align: top;\n",
       "    }\n",
       "\n",
       "    .dataframe thead th {\n",
       "        text-align: right;\n",
       "    }\n",
       "</style>\n",
       "<table border=\"1\" class=\"dataframe\">\n",
       "  <thead>\n",
       "    <tr style=\"text-align: right;\">\n",
       "      <th></th>\n",
       "      <th>image_id</th>\n",
       "      <th>laterality</th>\n",
       "      <th>view</th>\n",
       "      <th>height</th>\n",
       "      <th>width</th>\n",
       "      <th>breast_birads</th>\n",
       "      <th>breast_density</th>\n",
       "      <th>finding_categories</th>\n",
       "      <th>finding_birads</th>\n",
       "      <th>xmin</th>\n",
       "      <th>ymin</th>\n",
       "      <th>xmax</th>\n",
       "      <th>ymax</th>\n",
       "      <th>split</th>\n",
       "    </tr>\n",
       "  </thead>\n",
       "  <tbody>\n",
       "    <tr>\n",
       "      <th>0</th>\n",
       "      <td>4e3a578fe535ea4f5258d3f7f4419db8</td>\n",
       "      <td>R</td>\n",
       "      <td>CC</td>\n",
       "      <td>3518</td>\n",
       "      <td>2800</td>\n",
       "      <td>BI-RADS 4</td>\n",
       "      <td>DENSITY C</td>\n",
       "      <td>['Mass']</td>\n",
       "      <td>BI-RADS 4</td>\n",
       "      <td>2355.139893</td>\n",
       "      <td>1731.640015</td>\n",
       "      <td>2482.979980</td>\n",
       "      <td>1852.750000</td>\n",
       "      <td>training</td>\n",
       "    </tr>\n",
       "    <tr>\n",
       "      <th>1</th>\n",
       "      <td>dac39351b0f3a8c670b7f8dc88029364</td>\n",
       "      <td>R</td>\n",
       "      <td>MLO</td>\n",
       "      <td>3518</td>\n",
       "      <td>2800</td>\n",
       "      <td>BI-RADS 4</td>\n",
       "      <td>DENSITY C</td>\n",
       "      <td>['Mass']</td>\n",
       "      <td>BI-RADS 4</td>\n",
       "      <td>2386.679932</td>\n",
       "      <td>1240.609985</td>\n",
       "      <td>2501.800049</td>\n",
       "      <td>1354.040039</td>\n",
       "      <td>training</td>\n",
       "    </tr>\n",
       "    <tr>\n",
       "      <th>2</th>\n",
       "      <td>c83f780904f25eacb44e9030f32c66e1</td>\n",
       "      <td>R</td>\n",
       "      <td>CC</td>\n",
       "      <td>3518</td>\n",
       "      <td>2800</td>\n",
       "      <td>BI-RADS 3</td>\n",
       "      <td>DENSITY C</td>\n",
       "      <td>['Global Asymmetry']</td>\n",
       "      <td>BI-RADS 3</td>\n",
       "      <td>2279.179932</td>\n",
       "      <td>1166.510010</td>\n",
       "      <td>2704.439941</td>\n",
       "      <td>2184.260010</td>\n",
       "      <td>training</td>\n",
       "    </tr>\n",
       "    <tr>\n",
       "      <th>3</th>\n",
       "      <td>893528bc38a0362928a89364f1b692fd</td>\n",
       "      <td>R</td>\n",
       "      <td>MLO</td>\n",
       "      <td>3518</td>\n",
       "      <td>2800</td>\n",
       "      <td>BI-RADS 3</td>\n",
       "      <td>DENSITY C</td>\n",
       "      <td>['Global Asymmetry']</td>\n",
       "      <td>BI-RADS 3</td>\n",
       "      <td>1954.270020</td>\n",
       "      <td>1443.640015</td>\n",
       "      <td>2589.760010</td>\n",
       "      <td>2193.810059</td>\n",
       "      <td>training</td>\n",
       "    </tr>\n",
       "    <tr>\n",
       "      <th>4</th>\n",
       "      <td>318264c881bf12f2c1efe5f93920cc37</td>\n",
       "      <td>R</td>\n",
       "      <td>CC</td>\n",
       "      <td>3518</td>\n",
       "      <td>2800</td>\n",
       "      <td>BI-RADS 4</td>\n",
       "      <td>DENSITY C</td>\n",
       "      <td>['Architectural Distortion']</td>\n",
       "      <td>BI-RADS 4</td>\n",
       "      <td>2172.300049</td>\n",
       "      <td>1967.410034</td>\n",
       "      <td>2388.699951</td>\n",
       "      <td>2147.159912</td>\n",
       "      <td>training</td>\n",
       "    </tr>\n",
       "  </tbody>\n",
       "</table>\n",
       "</div>"
      ],
      "text/plain": [
       "                           image_id laterality view  height  width  \\\n",
       "0  4e3a578fe535ea4f5258d3f7f4419db8          R   CC    3518   2800   \n",
       "1  dac39351b0f3a8c670b7f8dc88029364          R  MLO    3518   2800   \n",
       "2  c83f780904f25eacb44e9030f32c66e1          R   CC    3518   2800   \n",
       "3  893528bc38a0362928a89364f1b692fd          R  MLO    3518   2800   \n",
       "4  318264c881bf12f2c1efe5f93920cc37          R   CC    3518   2800   \n",
       "\n",
       "  breast_birads breast_density            finding_categories finding_birads  \\\n",
       "0     BI-RADS 4      DENSITY C                      ['Mass']      BI-RADS 4   \n",
       "1     BI-RADS 4      DENSITY C                      ['Mass']      BI-RADS 4   \n",
       "2     BI-RADS 3      DENSITY C          ['Global Asymmetry']      BI-RADS 3   \n",
       "3     BI-RADS 3      DENSITY C          ['Global Asymmetry']      BI-RADS 3   \n",
       "4     BI-RADS 4      DENSITY C  ['Architectural Distortion']      BI-RADS 4   \n",
       "\n",
       "          xmin         ymin         xmax         ymax     split  \n",
       "0  2355.139893  1731.640015  2482.979980  1852.750000  training  \n",
       "1  2386.679932  1240.609985  2501.800049  1354.040039  training  \n",
       "2  2279.179932  1166.510010  2704.439941  2184.260010  training  \n",
       "3  1954.270020  1443.640015  2589.760010  2193.810059  training  \n",
       "4  2172.300049  1967.410034  2388.699951  2147.159912  training  "
      ]
     },
     "execution_count": 64,
     "metadata": {},
     "output_type": "execute_result"
    }
   ],
   "source": [
    "finding_anno2 = finding_anno.rename({\n",
    "    'study_id': 'patient_id', 'view_position': 'view',\n",
    "}, axis=1).drop(['patient_id', 'series_id'], axis=1)\n",
    "finding_anno2.head()"
   ]
  },
  {
   "cell_type": "code",
   "execution_count": 57,
   "metadata": {},
   "outputs": [],
   "source": [
    "train = metadata2.merge(breast_anno2, on=['image_id'], how='inner')\n",
    "train.to_csv('input/rsna-breast-cancer-detection/vindr_train.csv', index=False)"
   ]
  },
  {
   "cell_type": "code",
   "execution_count": 66,
   "metadata": {},
   "outputs": [],
   "source": [
    "finding_anno2.merge(breast_anno2[['image_id', 'patient_id']], on='image_id', how='inner').to_csv('input/rsna-breast-cancer-detection/vindr_findings.csv', index=False)"
   ]
  },
  {
   "cell_type": "markdown",
   "metadata": {},
   "source": [
    "# Vindr"
   ]
  },
  {
   "cell_type": "code",
   "execution_count": 3,
   "metadata": {},
   "outputs": [],
   "source": [
    "train_vindr = pd.read_csv('input/rsna-breast-cancer-detection/vindr_train.csv')\n",
    "train = pd.read_csv('input/rsna-breast-cancer-detection/train.csv')"
   ]
  },
  {
   "cell_type": "code",
   "execution_count": 4,
   "metadata": {},
   "outputs": [
    {
     "data": {
      "text/plain": [
       "1    13406\n",
       "2     4676\n",
       "3      930\n",
       "4      762\n",
       "5      226\n",
       "Name: BIRADS, dtype: int64"
      ]
     },
     "execution_count": 4,
     "metadata": {},
     "output_type": "execute_result"
    }
   ],
   "source": [
    "train_vindr['BIRADS'].value_counts()"
   ]
  },
  {
   "cell_type": "code",
   "execution_count": 5,
   "metadata": {},
   "outputs": [],
   "source": [
    "train_vindr['cancer'] = (train_vindr['BIRADS'] >= 4).astype(int)"
   ]
  },
  {
   "cell_type": "code",
   "execution_count": 7,
   "metadata": {},
   "outputs": [],
   "source": [
    "train_vindr.to_csv('input/rsna-breast-cancer-detection/vindr_train.csv', index=False)"
   ]
  },
  {
   "cell_type": "code",
   "execution_count": 11,
   "metadata": {},
   "outputs": [],
   "source": [
    "train_vindr.query('BIRADS.isin([1, 5])').to_csv('input/rsna-breast-cancer-detection/vindr_train_birads05.csv', index=False)"
   ]
  },
  {
   "cell_type": "code",
   "execution_count": 19,
   "metadata": {},
   "outputs": [],
   "source": [
    "pd.concat([train, train_vindr.query('BIRADS.isin([1, 5])')]).drop(['view.1', 'is_test'], axis=1).to_csv(\n",
    "    'input/rsna-breast-cancer-detection/train_concat_vindr_birads05.csv', index=False)"
   ]
  },
  {
   "cell_type": "code",
   "execution_count": 20,
   "metadata": {},
   "outputs": [
    {
     "name": "stdout",
     "output_type": "stream",
     "text": [
      "<class 'pandas.core.frame.DataFrame'>\n",
      "Int64Index: 68338 entries, 0 to 19994\n",
      "Data columns (total 14 columns):\n",
      " #   Column                   Non-Null Count  Dtype  \n",
      "---  ------                   --------------  -----  \n",
      " 0   site_id                  54706 non-null  float64\n",
      " 1   patient_id               68338 non-null  object \n",
      " 2   image_id                 68338 non-null  object \n",
      " 3   laterality               68338 non-null  object \n",
      " 4   view                     68338 non-null  object \n",
      " 5   age                      66797 non-null  float64\n",
      " 6   cancer                   68338 non-null  int64  \n",
      " 7   biopsy                   54706 non-null  float64\n",
      " 8   invasive                 54706 non-null  float64\n",
      " 9   BIRADS                   39918 non-null  float64\n",
      " 10  implant                  54706 non-null  float64\n",
      " 11  density                  43102 non-null  object \n",
      " 12  machine_id               68338 non-null  object \n",
      " 13  difficult_negative_case  54706 non-null  object \n",
      "dtypes: float64(6), int64(1), object(7)\n",
      "memory usage: 7.8+ MB\n"
     ]
    }
   ],
   "source": [
    "pd.concat([train, train_vindr.query('BIRADS.isin([1, 5])')]).drop(['view.1', 'is_test'], axis=1).info()"
   ]
  },
  {
   "cell_type": "code",
   "execution_count": null,
   "metadata": {},
   "outputs": [],
   "source": []
  }
 ],
 "metadata": {
  "kernelspec": {
   "display_name": "kumaconda22",
   "language": "python",
   "name": "python3"
  },
  "language_info": {
   "codemirror_mode": {
    "name": "ipython",
    "version": 3
   },
   "file_extension": ".py",
   "mimetype": "text/x-python",
   "name": "python",
   "nbconvert_exporter": "python",
   "pygments_lexer": "ipython3",
   "version": "3.9.12"
  },
  "orig_nbformat": 4,
  "vscode": {
   "interpreter": {
    "hash": "df01e636841dc76853efe73a888ff447485d7406624663312d3a1e3bb89e4467"
   }
  }
 },
 "nbformat": 4,
 "nbformat_minor": 2
}
