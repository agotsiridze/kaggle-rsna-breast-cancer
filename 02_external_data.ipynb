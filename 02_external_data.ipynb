{
 "cells": [
  {
   "cell_type": "code",
   "execution_count": 1,
   "metadata": {},
   "outputs": [],
   "source": [
    "%load_ext autoreload\n",
    "%autoreload 2"
   ]
  },
  {
   "cell_type": "code",
   "execution_count": 2,
   "metadata": {},
   "outputs": [],
   "source": [
    "import numpy as np\n",
    "import pandas as pd\n",
    "import matplotlib.pyplot as plt\n",
    "import seaborn as sns\n",
    "from pathlib import Path"
   ]
  },
  {
   "cell_type": "code",
   "execution_count": 3,
   "metadata": {},
   "outputs": [],
   "source": [
    "metadata = pd.read_csv('input/rsna-breast-cancer-detection/vindr_mammo/vindr-mammo-a-large-scale-benchmark-dataset-for-computer-aided-detection-and-diagnosis-in-full-field-digital-mammography-1.0.0/metadata.csv')\n",
    "breast_anno = pd.read_csv('input/rsna-breast-cancer-detection/vindr_mammo/vindr-mammo-a-large-scale-benchmark-dataset-for-computer-aided-detection-and-diagnosis-in-full-field-digital-mammography-1.0.0/breast-level_annotations.csv')\n",
    "finding_anno = pd.read_csv('input/rsna-breast-cancer-detection/vindr_mammo/vindr-mammo-a-large-scale-benchmark-dataset-for-computer-aided-detection-and-diagnosis-in-full-field-digital-mammography-1.0.0/finding_annotations.csv')"
   ]
  },
  {
   "cell_type": "code",
   "execution_count": 4,
   "metadata": {},
   "outputs": [
    {
     "data": {
      "text/html": [
       "<div>\n",
       "<style scoped>\n",
       "    .dataframe tbody tr th:only-of-type {\n",
       "        vertical-align: middle;\n",
       "    }\n",
       "\n",
       "    .dataframe tbody tr th {\n",
       "        vertical-align: top;\n",
       "    }\n",
       "\n",
       "    .dataframe thead th {\n",
       "        text-align: right;\n",
       "    }\n",
       "</style>\n",
       "<table border=\"1\" class=\"dataframe\">\n",
       "  <thead>\n",
       "    <tr style=\"text-align: right;\">\n",
       "      <th></th>\n",
       "      <th>study_id</th>\n",
       "      <th>series_id</th>\n",
       "      <th>image_id</th>\n",
       "      <th>laterality</th>\n",
       "      <th>view_position</th>\n",
       "      <th>height</th>\n",
       "      <th>width</th>\n",
       "      <th>breast_birads</th>\n",
       "      <th>breast_density</th>\n",
       "      <th>split</th>\n",
       "    </tr>\n",
       "  </thead>\n",
       "  <tbody>\n",
       "    <tr>\n",
       "      <th>0</th>\n",
       "      <td>b8d273e8601f348d3664778dae0e7e0b</td>\n",
       "      <td>b36517b9cbbcfd286a7ae04f643af97a</td>\n",
       "      <td>d8125545210c08e1b1793a5af6458ee2</td>\n",
       "      <td>L</td>\n",
       "      <td>CC</td>\n",
       "      <td>3518</td>\n",
       "      <td>2800</td>\n",
       "      <td>BI-RADS 2</td>\n",
       "      <td>DENSITY C</td>\n",
       "      <td>training</td>\n",
       "    </tr>\n",
       "    <tr>\n",
       "      <th>1</th>\n",
       "      <td>b8d273e8601f348d3664778dae0e7e0b</td>\n",
       "      <td>b36517b9cbbcfd286a7ae04f643af97a</td>\n",
       "      <td>290c658f4e75a3f83ec78a847414297c</td>\n",
       "      <td>L</td>\n",
       "      <td>MLO</td>\n",
       "      <td>3518</td>\n",
       "      <td>2800</td>\n",
       "      <td>BI-RADS 2</td>\n",
       "      <td>DENSITY C</td>\n",
       "      <td>training</td>\n",
       "    </tr>\n",
       "    <tr>\n",
       "      <th>2</th>\n",
       "      <td>b8d273e8601f348d3664778dae0e7e0b</td>\n",
       "      <td>b36517b9cbbcfd286a7ae04f643af97a</td>\n",
       "      <td>cd0fc7bc53ac632a11643ac4cc91002a</td>\n",
       "      <td>R</td>\n",
       "      <td>CC</td>\n",
       "      <td>3518</td>\n",
       "      <td>2800</td>\n",
       "      <td>BI-RADS 2</td>\n",
       "      <td>DENSITY C</td>\n",
       "      <td>training</td>\n",
       "    </tr>\n",
       "    <tr>\n",
       "      <th>3</th>\n",
       "      <td>b8d273e8601f348d3664778dae0e7e0b</td>\n",
       "      <td>b36517b9cbbcfd286a7ae04f643af97a</td>\n",
       "      <td>71638b1e853799f227492bfb08a01491</td>\n",
       "      <td>R</td>\n",
       "      <td>MLO</td>\n",
       "      <td>3518</td>\n",
       "      <td>2800</td>\n",
       "      <td>BI-RADS 2</td>\n",
       "      <td>DENSITY C</td>\n",
       "      <td>training</td>\n",
       "    </tr>\n",
       "    <tr>\n",
       "      <th>4</th>\n",
       "      <td>8269f5971eaca3e5d3772d1796e6bd7a</td>\n",
       "      <td>d931832a0815df082c085b6e09d20aac</td>\n",
       "      <td>dd9ce3288c0773e006a294188aadba8e</td>\n",
       "      <td>L</td>\n",
       "      <td>CC</td>\n",
       "      <td>3518</td>\n",
       "      <td>2800</td>\n",
       "      <td>BI-RADS 1</td>\n",
       "      <td>DENSITY C</td>\n",
       "      <td>training</td>\n",
       "    </tr>\n",
       "  </tbody>\n",
       "</table>\n",
       "</div>"
      ],
      "text/plain": [
       "                           study_id                         series_id  \\\n",
       "0  b8d273e8601f348d3664778dae0e7e0b  b36517b9cbbcfd286a7ae04f643af97a   \n",
       "1  b8d273e8601f348d3664778dae0e7e0b  b36517b9cbbcfd286a7ae04f643af97a   \n",
       "2  b8d273e8601f348d3664778dae0e7e0b  b36517b9cbbcfd286a7ae04f643af97a   \n",
       "3  b8d273e8601f348d3664778dae0e7e0b  b36517b9cbbcfd286a7ae04f643af97a   \n",
       "4  8269f5971eaca3e5d3772d1796e6bd7a  d931832a0815df082c085b6e09d20aac   \n",
       "\n",
       "                           image_id laterality view_position  height  width  \\\n",
       "0  d8125545210c08e1b1793a5af6458ee2          L            CC    3518   2800   \n",
       "1  290c658f4e75a3f83ec78a847414297c          L           MLO    3518   2800   \n",
       "2  cd0fc7bc53ac632a11643ac4cc91002a          R            CC    3518   2800   \n",
       "3  71638b1e853799f227492bfb08a01491          R           MLO    3518   2800   \n",
       "4  dd9ce3288c0773e006a294188aadba8e          L            CC    3518   2800   \n",
       "\n",
       "  breast_birads breast_density     split  \n",
       "0     BI-RADS 2      DENSITY C  training  \n",
       "1     BI-RADS 2      DENSITY C  training  \n",
       "2     BI-RADS 2      DENSITY C  training  \n",
       "3     BI-RADS 2      DENSITY C  training  \n",
       "4     BI-RADS 1      DENSITY C  training  "
      ]
     },
     "execution_count": 4,
     "metadata": {},
     "output_type": "execute_result"
    }
   ],
   "source": [
    "breast_anno.head()"
   ]
  },
  {
   "cell_type": "code",
   "execution_count": 5,
   "metadata": {},
   "outputs": [
    {
     "data": {
      "text/plain": [
       "SIEMENS              15244\n",
       "Planmed               3796\n",
       "IMS s.r.l.             736\n",
       "IMS GIOTTO S.p.A.      224\n",
       "Name: Manufacturer, dtype: int64"
      ]
     },
     "execution_count": 5,
     "metadata": {},
     "output_type": "execute_result"
    }
   ],
   "source": [
    "metadata['Manufacturer'].value_counts()"
   ]
  },
  {
   "cell_type": "code",
   "execution_count": 6,
   "metadata": {},
   "outputs": [
    {
     "data": {
      "text/plain": [
       "Mammomat Inspiration    15244\n",
       "Planmed Nuance           3796\n",
       "GIOTTO CLASS              628\n",
       "GIOTTO IMAGE 3DL          332\n",
       "Name: Manufacturer's Model Name, dtype: int64"
      ]
     },
     "execution_count": 6,
     "metadata": {},
     "output_type": "execute_result"
    }
   ],
   "source": [
    "metadata['Manufacturer\\'s Model Name'].value_counts()"
   ]
  },
  {
   "cell_type": "code",
   "execution_count": 7,
   "metadata": {},
   "outputs": [
    {
     "data": {
      "text/plain": [
       "BI-RADS 1    13406\n",
       "BI-RADS 2     4676\n",
       "BI-RADS 3      930\n",
       "BI-RADS 4      762\n",
       "BI-RADS 5      226\n",
       "Name: breast_birads, dtype: int64"
      ]
     },
     "execution_count": 7,
     "metadata": {},
     "output_type": "execute_result"
    }
   ],
   "source": [
    "breast_anno['breast_birads'].value_counts()"
   ]
  },
  {
   "cell_type": "code",
   "execution_count": 8,
   "metadata": {},
   "outputs": [
    {
     "data": {
      "text/plain": [
       "DENSITY C    15292\n",
       "DENSITY D     2700\n",
       "DENSITY B     1908\n",
       "DENSITY A      100\n",
       "Name: breast_density, dtype: int64"
      ]
     },
     "execution_count": 8,
     "metadata": {},
     "output_type": "execute_result"
    }
   ],
   "source": [
    "breast_anno['breast_density'].value_counts()"
   ]
  },
  {
   "cell_type": "code",
   "execution_count": 9,
   "metadata": {},
   "outputs": [
    {
     "data": {
      "text/html": [
       "<div>\n",
       "<style scoped>\n",
       "    .dataframe tbody tr th:only-of-type {\n",
       "        vertical-align: middle;\n",
       "    }\n",
       "\n",
       "    .dataframe tbody tr th {\n",
       "        vertical-align: top;\n",
       "    }\n",
       "\n",
       "    .dataframe thead th {\n",
       "        text-align: right;\n",
       "    }\n",
       "</style>\n",
       "<table border=\"1\" class=\"dataframe\">\n",
       "  <thead>\n",
       "    <tr style=\"text-align: right;\">\n",
       "      <th></th>\n",
       "      <th>image_id</th>\n",
       "      <th>age</th>\n",
       "      <th>machine_id</th>\n",
       "    </tr>\n",
       "  </thead>\n",
       "  <tbody>\n",
       "    <tr>\n",
       "      <th>0</th>\n",
       "      <td>d8125545210c08e1b1793a5af6458ee2</td>\n",
       "      <td>53.0</td>\n",
       "      <td>Mammomat Inspiration</td>\n",
       "    </tr>\n",
       "    <tr>\n",
       "      <th>1</th>\n",
       "      <td>290c658f4e75a3f83ec78a847414297c</td>\n",
       "      <td>53.0</td>\n",
       "      <td>Mammomat Inspiration</td>\n",
       "    </tr>\n",
       "    <tr>\n",
       "      <th>2</th>\n",
       "      <td>cd0fc7bc53ac632a11643ac4cc91002a</td>\n",
       "      <td>53.0</td>\n",
       "      <td>Mammomat Inspiration</td>\n",
       "    </tr>\n",
       "    <tr>\n",
       "      <th>3</th>\n",
       "      <td>71638b1e853799f227492bfb08a01491</td>\n",
       "      <td>53.0</td>\n",
       "      <td>Mammomat Inspiration</td>\n",
       "    </tr>\n",
       "    <tr>\n",
       "      <th>4</th>\n",
       "      <td>dd9ce3288c0773e006a294188aadba8e</td>\n",
       "      <td>42.0</td>\n",
       "      <td>Mammomat Inspiration</td>\n",
       "    </tr>\n",
       "  </tbody>\n",
       "</table>\n",
       "</div>"
      ],
      "text/plain": [
       "                           image_id   age            machine_id\n",
       "0  d8125545210c08e1b1793a5af6458ee2  53.0  Mammomat Inspiration\n",
       "1  290c658f4e75a3f83ec78a847414297c  53.0  Mammomat Inspiration\n",
       "2  cd0fc7bc53ac632a11643ac4cc91002a  53.0  Mammomat Inspiration\n",
       "3  71638b1e853799f227492bfb08a01491  53.0  Mammomat Inspiration\n",
       "4  dd9ce3288c0773e006a294188aadba8e  42.0  Mammomat Inspiration"
      ]
     },
     "execution_count": 9,
     "metadata": {},
     "output_type": "execute_result"
    }
   ],
   "source": [
    "metadata2 = metadata.rename(\n",
    "    {'SOP Instance UID.1': 'image_id', 'Patient\\'s Age': 'age' , 'Manufacturer\\'s Model Name': 'machine_id'}, \n",
    "    axis=1)[['image_id', 'age', 'machine_id']]\n",
    "metadata2['age'] = metadata2['age'].str[:-1].astype(float)\n",
    "metadata2.head()"
   ]
  },
  {
   "cell_type": "code",
   "execution_count": 10,
   "metadata": {},
   "outputs": [
    {
     "data": {
      "text/html": [
       "<div>\n",
       "<style scoped>\n",
       "    .dataframe tbody tr th:only-of-type {\n",
       "        vertical-align: middle;\n",
       "    }\n",
       "\n",
       "    .dataframe tbody tr th {\n",
       "        vertical-align: top;\n",
       "    }\n",
       "\n",
       "    .dataframe thead th {\n",
       "        text-align: right;\n",
       "    }\n",
       "</style>\n",
       "<table border=\"1\" class=\"dataframe\">\n",
       "  <thead>\n",
       "    <tr style=\"text-align: right;\">\n",
       "      <th></th>\n",
       "      <th>patient_id</th>\n",
       "      <th>image_id</th>\n",
       "      <th>view</th>\n",
       "      <th>laterality</th>\n",
       "      <th>view</th>\n",
       "      <th>BIRADS</th>\n",
       "      <th>density</th>\n",
       "      <th>is_test</th>\n",
       "    </tr>\n",
       "  </thead>\n",
       "  <tbody>\n",
       "    <tr>\n",
       "      <th>0</th>\n",
       "      <td>b8d273e8601f348d3664778dae0e7e0b</td>\n",
       "      <td>d8125545210c08e1b1793a5af6458ee2</td>\n",
       "      <td>CC</td>\n",
       "      <td>L</td>\n",
       "      <td>CC</td>\n",
       "      <td>2</td>\n",
       "      <td>C</td>\n",
       "      <td>0</td>\n",
       "    </tr>\n",
       "    <tr>\n",
       "      <th>1</th>\n",
       "      <td>b8d273e8601f348d3664778dae0e7e0b</td>\n",
       "      <td>290c658f4e75a3f83ec78a847414297c</td>\n",
       "      <td>MLO</td>\n",
       "      <td>L</td>\n",
       "      <td>MLO</td>\n",
       "      <td>2</td>\n",
       "      <td>C</td>\n",
       "      <td>0</td>\n",
       "    </tr>\n",
       "    <tr>\n",
       "      <th>2</th>\n",
       "      <td>b8d273e8601f348d3664778dae0e7e0b</td>\n",
       "      <td>cd0fc7bc53ac632a11643ac4cc91002a</td>\n",
       "      <td>CC</td>\n",
       "      <td>R</td>\n",
       "      <td>CC</td>\n",
       "      <td>2</td>\n",
       "      <td>C</td>\n",
       "      <td>0</td>\n",
       "    </tr>\n",
       "    <tr>\n",
       "      <th>3</th>\n",
       "      <td>b8d273e8601f348d3664778dae0e7e0b</td>\n",
       "      <td>71638b1e853799f227492bfb08a01491</td>\n",
       "      <td>MLO</td>\n",
       "      <td>R</td>\n",
       "      <td>MLO</td>\n",
       "      <td>2</td>\n",
       "      <td>C</td>\n",
       "      <td>0</td>\n",
       "    </tr>\n",
       "    <tr>\n",
       "      <th>4</th>\n",
       "      <td>8269f5971eaca3e5d3772d1796e6bd7a</td>\n",
       "      <td>dd9ce3288c0773e006a294188aadba8e</td>\n",
       "      <td>CC</td>\n",
       "      <td>L</td>\n",
       "      <td>CC</td>\n",
       "      <td>1</td>\n",
       "      <td>C</td>\n",
       "      <td>0</td>\n",
       "    </tr>\n",
       "  </tbody>\n",
       "</table>\n",
       "</div>"
      ],
      "text/plain": [
       "                         patient_id                          image_id view  \\\n",
       "0  b8d273e8601f348d3664778dae0e7e0b  d8125545210c08e1b1793a5af6458ee2   CC   \n",
       "1  b8d273e8601f348d3664778dae0e7e0b  290c658f4e75a3f83ec78a847414297c  MLO   \n",
       "2  b8d273e8601f348d3664778dae0e7e0b  cd0fc7bc53ac632a11643ac4cc91002a   CC   \n",
       "3  b8d273e8601f348d3664778dae0e7e0b  71638b1e853799f227492bfb08a01491  MLO   \n",
       "4  8269f5971eaca3e5d3772d1796e6bd7a  dd9ce3288c0773e006a294188aadba8e   CC   \n",
       "\n",
       "  laterality view  BIRADS density  is_test  \n",
       "0          L   CC       2       C        0  \n",
       "1          L  MLO       2       C        0  \n",
       "2          R   CC       2       C        0  \n",
       "3          R  MLO       2       C        0  \n",
       "4          L   CC       1       C        0  "
      ]
     },
     "execution_count": 10,
     "metadata": {},
     "output_type": "execute_result"
    }
   ],
   "source": [
    "breast_anno2 = breast_anno.rename({\n",
    "    'study_id': 'patient_id', 'view_position': 'view', 'breast_birads': 'BIRADS', 'breast_density': 'density', 'split': 'is_test'\n",
    "}, axis=1)[['patient_id', 'image_id', 'view', 'laterality', 'view', 'BIRADS', 'density', 'is_test']]\n",
    "breast_anno2['BIRADS'] = breast_anno2['BIRADS'].str[-1].astype(int)\n",
    "breast_anno2['density'] = breast_anno2['density'].str[-1]\n",
    "breast_anno2['is_test'] = (breast_anno2['is_test'] == 'test').astype(int)\n",
    "breast_anno2.head()"
   ]
  },
  {
   "cell_type": "code",
   "execution_count": 64,
   "metadata": {},
   "outputs": [
    {
     "data": {
      "text/html": [
       "<div>\n",
       "<style scoped>\n",
       "    .dataframe tbody tr th:only-of-type {\n",
       "        vertical-align: middle;\n",
       "    }\n",
       "\n",
       "    .dataframe tbody tr th {\n",
       "        vertical-align: top;\n",
       "    }\n",
       "\n",
       "    .dataframe thead th {\n",
       "        text-align: right;\n",
       "    }\n",
       "</style>\n",
       "<table border=\"1\" class=\"dataframe\">\n",
       "  <thead>\n",
       "    <tr style=\"text-align: right;\">\n",
       "      <th></th>\n",
       "      <th>image_id</th>\n",
       "      <th>laterality</th>\n",
       "      <th>view</th>\n",
       "      <th>height</th>\n",
       "      <th>width</th>\n",
       "      <th>breast_birads</th>\n",
       "      <th>breast_density</th>\n",
       "      <th>finding_categories</th>\n",
       "      <th>finding_birads</th>\n",
       "      <th>xmin</th>\n",
       "      <th>ymin</th>\n",
       "      <th>xmax</th>\n",
       "      <th>ymax</th>\n",
       "      <th>split</th>\n",
       "    </tr>\n",
       "  </thead>\n",
       "  <tbody>\n",
       "    <tr>\n",
       "      <th>0</th>\n",
       "      <td>4e3a578fe535ea4f5258d3f7f4419db8</td>\n",
       "      <td>R</td>\n",
       "      <td>CC</td>\n",
       "      <td>3518</td>\n",
       "      <td>2800</td>\n",
       "      <td>BI-RADS 4</td>\n",
       "      <td>DENSITY C</td>\n",
       "      <td>['Mass']</td>\n",
       "      <td>BI-RADS 4</td>\n",
       "      <td>2355.139893</td>\n",
       "      <td>1731.640015</td>\n",
       "      <td>2482.979980</td>\n",
       "      <td>1852.750000</td>\n",
       "      <td>training</td>\n",
       "    </tr>\n",
       "    <tr>\n",
       "      <th>1</th>\n",
       "      <td>dac39351b0f3a8c670b7f8dc88029364</td>\n",
       "      <td>R</td>\n",
       "      <td>MLO</td>\n",
       "      <td>3518</td>\n",
       "      <td>2800</td>\n",
       "      <td>BI-RADS 4</td>\n",
       "      <td>DENSITY C</td>\n",
       "      <td>['Mass']</td>\n",
       "      <td>BI-RADS 4</td>\n",
       "      <td>2386.679932</td>\n",
       "      <td>1240.609985</td>\n",
       "      <td>2501.800049</td>\n",
       "      <td>1354.040039</td>\n",
       "      <td>training</td>\n",
       "    </tr>\n",
       "    <tr>\n",
       "      <th>2</th>\n",
       "      <td>c83f780904f25eacb44e9030f32c66e1</td>\n",
       "      <td>R</td>\n",
       "      <td>CC</td>\n",
       "      <td>3518</td>\n",
       "      <td>2800</td>\n",
       "      <td>BI-RADS 3</td>\n",
       "      <td>DENSITY C</td>\n",
       "      <td>['Global Asymmetry']</td>\n",
       "      <td>BI-RADS 3</td>\n",
       "      <td>2279.179932</td>\n",
       "      <td>1166.510010</td>\n",
       "      <td>2704.439941</td>\n",
       "      <td>2184.260010</td>\n",
       "      <td>training</td>\n",
       "    </tr>\n",
       "    <tr>\n",
       "      <th>3</th>\n",
       "      <td>893528bc38a0362928a89364f1b692fd</td>\n",
       "      <td>R</td>\n",
       "      <td>MLO</td>\n",
       "      <td>3518</td>\n",
       "      <td>2800</td>\n",
       "      <td>BI-RADS 3</td>\n",
       "      <td>DENSITY C</td>\n",
       "      <td>['Global Asymmetry']</td>\n",
       "      <td>BI-RADS 3</td>\n",
       "      <td>1954.270020</td>\n",
       "      <td>1443.640015</td>\n",
       "      <td>2589.760010</td>\n",
       "      <td>2193.810059</td>\n",
       "      <td>training</td>\n",
       "    </tr>\n",
       "    <tr>\n",
       "      <th>4</th>\n",
       "      <td>318264c881bf12f2c1efe5f93920cc37</td>\n",
       "      <td>R</td>\n",
       "      <td>CC</td>\n",
       "      <td>3518</td>\n",
       "      <td>2800</td>\n",
       "      <td>BI-RADS 4</td>\n",
       "      <td>DENSITY C</td>\n",
       "      <td>['Architectural Distortion']</td>\n",
       "      <td>BI-RADS 4</td>\n",
       "      <td>2172.300049</td>\n",
       "      <td>1967.410034</td>\n",
       "      <td>2388.699951</td>\n",
       "      <td>2147.159912</td>\n",
       "      <td>training</td>\n",
       "    </tr>\n",
       "  </tbody>\n",
       "</table>\n",
       "</div>"
      ],
      "text/plain": [
       "                           image_id laterality view  height  width  \\\n",
       "0  4e3a578fe535ea4f5258d3f7f4419db8          R   CC    3518   2800   \n",
       "1  dac39351b0f3a8c670b7f8dc88029364          R  MLO    3518   2800   \n",
       "2  c83f780904f25eacb44e9030f32c66e1          R   CC    3518   2800   \n",
       "3  893528bc38a0362928a89364f1b692fd          R  MLO    3518   2800   \n",
       "4  318264c881bf12f2c1efe5f93920cc37          R   CC    3518   2800   \n",
       "\n",
       "  breast_birads breast_density            finding_categories finding_birads  \\\n",
       "0     BI-RADS 4      DENSITY C                      ['Mass']      BI-RADS 4   \n",
       "1     BI-RADS 4      DENSITY C                      ['Mass']      BI-RADS 4   \n",
       "2     BI-RADS 3      DENSITY C          ['Global Asymmetry']      BI-RADS 3   \n",
       "3     BI-RADS 3      DENSITY C          ['Global Asymmetry']      BI-RADS 3   \n",
       "4     BI-RADS 4      DENSITY C  ['Architectural Distortion']      BI-RADS 4   \n",
       "\n",
       "          xmin         ymin         xmax         ymax     split  \n",
       "0  2355.139893  1731.640015  2482.979980  1852.750000  training  \n",
       "1  2386.679932  1240.609985  2501.800049  1354.040039  training  \n",
       "2  2279.179932  1166.510010  2704.439941  2184.260010  training  \n",
       "3  1954.270020  1443.640015  2589.760010  2193.810059  training  \n",
       "4  2172.300049  1967.410034  2388.699951  2147.159912  training  "
      ]
     },
     "execution_count": 64,
     "metadata": {},
     "output_type": "execute_result"
    }
   ],
   "source": [
    "finding_anno2 = finding_anno.rename({\n",
    "    'study_id': 'patient_id', 'view_position': 'view',\n",
    "}, axis=1).drop(['patient_id', 'series_id'], axis=1)\n",
    "finding_anno2.head()"
   ]
  },
  {
   "cell_type": "code",
   "execution_count": 57,
   "metadata": {},
   "outputs": [],
   "source": [
    "train = metadata2.merge(breast_anno2, on=['image_id'], how='inner')\n",
    "train.to_csv('input/rsna-breast-cancer-detection/vindr_train.csv', index=False)"
   ]
  },
  {
   "cell_type": "code",
   "execution_count": 66,
   "metadata": {},
   "outputs": [],
   "source": [
    "finding_anno2.merge(breast_anno2[['image_id', 'patient_id']], on='image_id', how='inner').to_csv('input/rsna-breast-cancer-detection/vindr_findings.csv', index=False)"
   ]
  },
  {
   "cell_type": "markdown",
   "metadata": {},
   "source": [
    "# Vindr"
   ]
  },
  {
   "cell_type": "code",
   "execution_count": 5,
   "metadata": {},
   "outputs": [],
   "source": [
    "train_vindr = pd.read_csv('input/rsna-breast-cancer-detection/vindr_train.csv')\n",
    "train = pd.read_csv(b'input/rsna-breast-cancer-detection/train.csv')"
   ]
  },
  {
   "cell_type": "code",
   "execution_count": 4,
   "metadata": {},
   "outputs": [
    {
     "data": {
      "text/plain": [
       "1    13406\n",
       "2     4676\n",
       "3      930\n",
       "4      762\n",
       "5      226\n",
       "Name: BIRADS, dtype: int64"
      ]
     },
     "execution_count": 4,
     "metadata": {},
     "output_type": "execute_result"
    }
   ],
   "source": [
    "train_vindr['BIRADS'].value_counts()"
   ]
  },
  {
   "cell_type": "code",
   "execution_count": 5,
   "metadata": {},
   "outputs": [],
   "source": [
    "train_vindr['cancer'] = (train_vindr['BIRADS'] >= 4).astype(int)"
   ]
  },
  {
   "cell_type": "code",
   "execution_count": 7,
   "metadata": {},
   "outputs": [],
   "source": [
    "train_vindr.to_csv('input/rsna-breast-cancer-detection/vindr_train.csv', index=False)"
   ]
  },
  {
   "cell_type": "code",
   "execution_count": 11,
   "metadata": {},
   "outputs": [],
   "source": [
    "train_vindr.query('BIRADS.isin([1, 5])').to_csv('input/rsna-breast-cancer-detection/vindr_train_birads05.csv', index=False)"
   ]
  },
  {
   "cell_type": "code",
   "execution_count": 19,
   "metadata": {},
   "outputs": [],
   "source": [
    "pd.concat([train, train_vindr.query('BIRADS.isin([1, 5])')]).drop(['view.1', 'is_test'], axis=1).to_csv(\n",
    "    'input/rsna-breast-cancer-detection/train_concat_vindr_birads05.csv', index=False)"
   ]
  },
  {
   "cell_type": "code",
   "execution_count": 20,
   "metadata": {},
   "outputs": [
    {
     "name": "stdout",
     "output_type": "stream",
     "text": [
      "<class 'pandas.core.frame.DataFrame'>\n",
      "Int64Index: 68338 entries, 0 to 19994\n",
      "Data columns (total 14 columns):\n",
      " #   Column                   Non-Null Count  Dtype  \n",
      "---  ------                   --------------  -----  \n",
      " 0   site_id                  54706 non-null  float64\n",
      " 1   patient_id               68338 non-null  object \n",
      " 2   image_id                 68338 non-null  object \n",
      " 3   laterality               68338 non-null  object \n",
      " 4   view                     68338 non-null  object \n",
      " 5   age                      66797 non-null  float64\n",
      " 6   cancer                   68338 non-null  int64  \n",
      " 7   biopsy                   54706 non-null  float64\n",
      " 8   invasive                 54706 non-null  float64\n",
      " 9   BIRADS                   39918 non-null  float64\n",
      " 10  implant                  54706 non-null  float64\n",
      " 11  density                  43102 non-null  object \n",
      " 12  machine_id               68338 non-null  object \n",
      " 13  difficult_negative_case  54706 non-null  object \n",
      "dtypes: float64(6), int64(1), object(7)\n",
      "memory usage: 7.8+ MB\n"
     ]
    }
   ],
   "source": [
    "pd.concat([train, train_vindr.query('BIRADS.isin([1, 5])')]).drop(['view.1', 'is_test'], axis=1).info()"
   ]
  },
  {
   "cell_type": "code",
   "execution_count": 5,
   "metadata": {},
   "outputs": [],
   "source": [
    "train_findings = pd.read_csv('input/rsna-breast-cancer-detection/vindr_findings.csv')"
   ]
  },
  {
   "cell_type": "code",
   "execution_count": 13,
   "metadata": {},
   "outputs": [
    {
     "data": {
      "text/plain": [
       "BI-RADS 4    995\n",
       "BI-RADS 3    893\n",
       "BI-RADS 5    241\n",
       "Name: finding_birads, dtype: int64"
      ]
     },
     "execution_count": 13,
     "metadata": {},
     "output_type": "execute_result"
    }
   ],
   "source": [
    "train_findings['finding_birads'].value_counts()"
   ]
  },
  {
   "cell_type": "code",
   "execution_count": 14,
   "metadata": {},
   "outputs": [
    {
     "data": {
      "text/html": [
       "<div>\n",
       "<style scoped>\n",
       "    .dataframe tbody tr th:only-of-type {\n",
       "        vertical-align: middle;\n",
       "    }\n",
       "\n",
       "    .dataframe tbody tr th {\n",
       "        vertical-align: top;\n",
       "    }\n",
       "\n",
       "    .dataframe thead th {\n",
       "        text-align: right;\n",
       "    }\n",
       "</style>\n",
       "<table border=\"1\" class=\"dataframe\">\n",
       "  <thead>\n",
       "    <tr style=\"text-align: right;\">\n",
       "      <th></th>\n",
       "      <th>image_id</th>\n",
       "      <th>laterality</th>\n",
       "      <th>view</th>\n",
       "      <th>height</th>\n",
       "      <th>width</th>\n",
       "      <th>breast_birads</th>\n",
       "      <th>breast_density</th>\n",
       "      <th>finding_categories</th>\n",
       "      <th>finding_birads</th>\n",
       "      <th>xmin</th>\n",
       "      <th>ymin</th>\n",
       "      <th>xmax</th>\n",
       "      <th>ymax</th>\n",
       "      <th>split</th>\n",
       "      <th>patient_id</th>\n",
       "    </tr>\n",
       "  </thead>\n",
       "  <tbody>\n",
       "    <tr>\n",
       "      <th>0</th>\n",
       "      <td>4e3a578fe535ea4f5258d3f7f4419db8</td>\n",
       "      <td>R</td>\n",
       "      <td>CC</td>\n",
       "      <td>3518</td>\n",
       "      <td>2800</td>\n",
       "      <td>BI-RADS 4</td>\n",
       "      <td>DENSITY C</td>\n",
       "      <td>['Mass']</td>\n",
       "      <td>BI-RADS 4</td>\n",
       "      <td>2355.139893</td>\n",
       "      <td>1731.640015</td>\n",
       "      <td>2482.979980</td>\n",
       "      <td>1852.750000</td>\n",
       "      <td>training</td>\n",
       "      <td>48575a27b7c992427041a82fa750d3fa</td>\n",
       "    </tr>\n",
       "    <tr>\n",
       "      <th>1</th>\n",
       "      <td>dac39351b0f3a8c670b7f8dc88029364</td>\n",
       "      <td>R</td>\n",
       "      <td>MLO</td>\n",
       "      <td>3518</td>\n",
       "      <td>2800</td>\n",
       "      <td>BI-RADS 4</td>\n",
       "      <td>DENSITY C</td>\n",
       "      <td>['Mass']</td>\n",
       "      <td>BI-RADS 4</td>\n",
       "      <td>2386.679932</td>\n",
       "      <td>1240.609985</td>\n",
       "      <td>2501.800049</td>\n",
       "      <td>1354.040039</td>\n",
       "      <td>training</td>\n",
       "      <td>48575a27b7c992427041a82fa750d3fa</td>\n",
       "    </tr>\n",
       "    <tr>\n",
       "      <th>2</th>\n",
       "      <td>c83f780904f25eacb44e9030f32c66e1</td>\n",
       "      <td>R</td>\n",
       "      <td>CC</td>\n",
       "      <td>3518</td>\n",
       "      <td>2800</td>\n",
       "      <td>BI-RADS 3</td>\n",
       "      <td>DENSITY C</td>\n",
       "      <td>['Global Asymmetry']</td>\n",
       "      <td>BI-RADS 3</td>\n",
       "      <td>2279.179932</td>\n",
       "      <td>1166.510010</td>\n",
       "      <td>2704.439941</td>\n",
       "      <td>2184.260010</td>\n",
       "      <td>training</td>\n",
       "      <td>75e8e48933289d70b407379a564f8594</td>\n",
       "    </tr>\n",
       "    <tr>\n",
       "      <th>3</th>\n",
       "      <td>893528bc38a0362928a89364f1b692fd</td>\n",
       "      <td>R</td>\n",
       "      <td>MLO</td>\n",
       "      <td>3518</td>\n",
       "      <td>2800</td>\n",
       "      <td>BI-RADS 3</td>\n",
       "      <td>DENSITY C</td>\n",
       "      <td>['Global Asymmetry']</td>\n",
       "      <td>BI-RADS 3</td>\n",
       "      <td>1954.270020</td>\n",
       "      <td>1443.640015</td>\n",
       "      <td>2589.760010</td>\n",
       "      <td>2193.810059</td>\n",
       "      <td>training</td>\n",
       "      <td>75e8e48933289d70b407379a564f8594</td>\n",
       "    </tr>\n",
       "    <tr>\n",
       "      <th>4</th>\n",
       "      <td>318264c881bf12f2c1efe5f93920cc37</td>\n",
       "      <td>R</td>\n",
       "      <td>CC</td>\n",
       "      <td>3518</td>\n",
       "      <td>2800</td>\n",
       "      <td>BI-RADS 4</td>\n",
       "      <td>DENSITY C</td>\n",
       "      <td>['Architectural Distortion']</td>\n",
       "      <td>BI-RADS 4</td>\n",
       "      <td>2172.300049</td>\n",
       "      <td>1967.410034</td>\n",
       "      <td>2388.699951</td>\n",
       "      <td>2147.159912</td>\n",
       "      <td>training</td>\n",
       "      <td>c3487424fee1bdd4515b72dc3fd69813</td>\n",
       "    </tr>\n",
       "    <tr>\n",
       "      <th>...</th>\n",
       "      <td>...</td>\n",
       "      <td>...</td>\n",
       "      <td>...</td>\n",
       "      <td>...</td>\n",
       "      <td>...</td>\n",
       "      <td>...</td>\n",
       "      <td>...</td>\n",
       "      <td>...</td>\n",
       "      <td>...</td>\n",
       "      <td>...</td>\n",
       "      <td>...</td>\n",
       "      <td>...</td>\n",
       "      <td>...</td>\n",
       "      <td>...</td>\n",
       "      <td>...</td>\n",
       "    </tr>\n",
       "    <tr>\n",
       "      <th>20481</th>\n",
       "      <td>ea732154d149f619b20070b78060ae65</td>\n",
       "      <td>R</td>\n",
       "      <td>CC</td>\n",
       "      <td>2812</td>\n",
       "      <td>2012</td>\n",
       "      <td>BI-RADS 2</td>\n",
       "      <td>DENSITY C</td>\n",
       "      <td>['No Finding']</td>\n",
       "      <td>NaN</td>\n",
       "      <td>NaN</td>\n",
       "      <td>NaN</td>\n",
       "      <td>NaN</td>\n",
       "      <td>NaN</td>\n",
       "      <td>training</td>\n",
       "      <td>f2093a752e6b44df5990f5fd38c99dd2</td>\n",
       "    </tr>\n",
       "    <tr>\n",
       "      <th>20482</th>\n",
       "      <td>4689616c3d0b46fcba7a771107730791</td>\n",
       "      <td>R</td>\n",
       "      <td>CC</td>\n",
       "      <td>3580</td>\n",
       "      <td>2702</td>\n",
       "      <td>BI-RADS 2</td>\n",
       "      <td>DENSITY C</td>\n",
       "      <td>['No Finding']</td>\n",
       "      <td>NaN</td>\n",
       "      <td>NaN</td>\n",
       "      <td>NaN</td>\n",
       "      <td>NaN</td>\n",
       "      <td>NaN</td>\n",
       "      <td>training</td>\n",
       "      <td>b3c8969cd2accfa4dbb2aece1f7158ab</td>\n",
       "    </tr>\n",
       "    <tr>\n",
       "      <th>20483</th>\n",
       "      <td>3c22491bcf1d0b004715c28d80981cdd</td>\n",
       "      <td>L</td>\n",
       "      <td>CC</td>\n",
       "      <td>3580</td>\n",
       "      <td>2702</td>\n",
       "      <td>BI-RADS 2</td>\n",
       "      <td>DENSITY C</td>\n",
       "      <td>['No Finding']</td>\n",
       "      <td>NaN</td>\n",
       "      <td>NaN</td>\n",
       "      <td>NaN</td>\n",
       "      <td>NaN</td>\n",
       "      <td>NaN</td>\n",
       "      <td>training</td>\n",
       "      <td>b3c8969cd2accfa4dbb2aece1f7158ab</td>\n",
       "    </tr>\n",
       "    <tr>\n",
       "      <th>20484</th>\n",
       "      <td>d443b9725e331b8b27589aa725597801</td>\n",
       "      <td>R</td>\n",
       "      <td>MLO</td>\n",
       "      <td>3580</td>\n",
       "      <td>2686</td>\n",
       "      <td>BI-RADS 2</td>\n",
       "      <td>DENSITY C</td>\n",
       "      <td>['No Finding']</td>\n",
       "      <td>NaN</td>\n",
       "      <td>NaN</td>\n",
       "      <td>NaN</td>\n",
       "      <td>NaN</td>\n",
       "      <td>NaN</td>\n",
       "      <td>training</td>\n",
       "      <td>b3c8969cd2accfa4dbb2aece1f7158ab</td>\n",
       "    </tr>\n",
       "    <tr>\n",
       "      <th>20485</th>\n",
       "      <td>45c1239cc36b0e672f0072707fd05c6f</td>\n",
       "      <td>L</td>\n",
       "      <td>MLO</td>\n",
       "      <td>3580</td>\n",
       "      <td>2670</td>\n",
       "      <td>BI-RADS 2</td>\n",
       "      <td>DENSITY C</td>\n",
       "      <td>['No Finding']</td>\n",
       "      <td>NaN</td>\n",
       "      <td>NaN</td>\n",
       "      <td>NaN</td>\n",
       "      <td>NaN</td>\n",
       "      <td>NaN</td>\n",
       "      <td>training</td>\n",
       "      <td>b3c8969cd2accfa4dbb2aece1f7158ab</td>\n",
       "    </tr>\n",
       "  </tbody>\n",
       "</table>\n",
       "<p>20486 rows × 15 columns</p>\n",
       "</div>"
      ],
      "text/plain": [
       "                               image_id laterality view  height  width  \\\n",
       "0      4e3a578fe535ea4f5258d3f7f4419db8          R   CC    3518   2800   \n",
       "1      dac39351b0f3a8c670b7f8dc88029364          R  MLO    3518   2800   \n",
       "2      c83f780904f25eacb44e9030f32c66e1          R   CC    3518   2800   \n",
       "3      893528bc38a0362928a89364f1b692fd          R  MLO    3518   2800   \n",
       "4      318264c881bf12f2c1efe5f93920cc37          R   CC    3518   2800   \n",
       "...                                 ...        ...  ...     ...    ...   \n",
       "20481  ea732154d149f619b20070b78060ae65          R   CC    2812   2012   \n",
       "20482  4689616c3d0b46fcba7a771107730791          R   CC    3580   2702   \n",
       "20483  3c22491bcf1d0b004715c28d80981cdd          L   CC    3580   2702   \n",
       "20484  d443b9725e331b8b27589aa725597801          R  MLO    3580   2686   \n",
       "20485  45c1239cc36b0e672f0072707fd05c6f          L  MLO    3580   2670   \n",
       "\n",
       "      breast_birads breast_density            finding_categories  \\\n",
       "0         BI-RADS 4      DENSITY C                      ['Mass']   \n",
       "1         BI-RADS 4      DENSITY C                      ['Mass']   \n",
       "2         BI-RADS 3      DENSITY C          ['Global Asymmetry']   \n",
       "3         BI-RADS 3      DENSITY C          ['Global Asymmetry']   \n",
       "4         BI-RADS 4      DENSITY C  ['Architectural Distortion']   \n",
       "...             ...            ...                           ...   \n",
       "20481     BI-RADS 2      DENSITY C                ['No Finding']   \n",
       "20482     BI-RADS 2      DENSITY C                ['No Finding']   \n",
       "20483     BI-RADS 2      DENSITY C                ['No Finding']   \n",
       "20484     BI-RADS 2      DENSITY C                ['No Finding']   \n",
       "20485     BI-RADS 2      DENSITY C                ['No Finding']   \n",
       "\n",
       "      finding_birads         xmin         ymin         xmax         ymax  \\\n",
       "0          BI-RADS 4  2355.139893  1731.640015  2482.979980  1852.750000   \n",
       "1          BI-RADS 4  2386.679932  1240.609985  2501.800049  1354.040039   \n",
       "2          BI-RADS 3  2279.179932  1166.510010  2704.439941  2184.260010   \n",
       "3          BI-RADS 3  1954.270020  1443.640015  2589.760010  2193.810059   \n",
       "4          BI-RADS 4  2172.300049  1967.410034  2388.699951  2147.159912   \n",
       "...              ...          ...          ...          ...          ...   \n",
       "20481            NaN          NaN          NaN          NaN          NaN   \n",
       "20482            NaN          NaN          NaN          NaN          NaN   \n",
       "20483            NaN          NaN          NaN          NaN          NaN   \n",
       "20484            NaN          NaN          NaN          NaN          NaN   \n",
       "20485            NaN          NaN          NaN          NaN          NaN   \n",
       "\n",
       "          split                        patient_id  \n",
       "0      training  48575a27b7c992427041a82fa750d3fa  \n",
       "1      training  48575a27b7c992427041a82fa750d3fa  \n",
       "2      training  75e8e48933289d70b407379a564f8594  \n",
       "3      training  75e8e48933289d70b407379a564f8594  \n",
       "4      training  c3487424fee1bdd4515b72dc3fd69813  \n",
       "...         ...                               ...  \n",
       "20481  training  f2093a752e6b44df5990f5fd38c99dd2  \n",
       "20482  training  b3c8969cd2accfa4dbb2aece1f7158ab  \n",
       "20483  training  b3c8969cd2accfa4dbb2aece1f7158ab  \n",
       "20484  training  b3c8969cd2accfa4dbb2aece1f7158ab  \n",
       "20485  training  b3c8969cd2accfa4dbb2aece1f7158ab  \n",
       "\n",
       "[20486 rows x 15 columns]"
      ]
     },
     "execution_count": 14,
     "metadata": {},
     "output_type": "execute_result"
    }
   ],
   "source": [
    "train_findings"
   ]
  },
  {
   "cell_type": "markdown",
   "metadata": {},
   "source": [
    "# BBox"
   ]
  },
  {
   "cell_type": "code",
   "execution_count": 8,
   "metadata": {},
   "outputs": [],
   "source": [
    "bbox_rsna = pd.read_csv('input/rsna-breast-cancer-detection/rsna-yolo-crop/001_baseline/det_result_001_baseline.csv')\n",
    "bbox_vindr = pd.read_csv('input/rsna-breast-cancer-detection/rsna-ext-yolo-crop/rsna_ext_yolo_crop/Vindr/det_result_vindr_001_baseline.csv')\n",
    "bbox_vindr['name'] = bbox_vindr['name'].str.replace('_', '/')"
   ]
  },
  {
   "cell_type": "code",
   "execution_count": 12,
   "metadata": {},
   "outputs": [
    {
     "data": {
      "text/html": [
       "<div>\n",
       "<style scoped>\n",
       "    .dataframe tbody tr th:only-of-type {\n",
       "        vertical-align: middle;\n",
       "    }\n",
       "\n",
       "    .dataframe tbody tr th {\n",
       "        vertical-align: top;\n",
       "    }\n",
       "\n",
       "    .dataframe thead th {\n",
       "        text-align: right;\n",
       "    }\n",
       "</style>\n",
       "<table border=\"1\" class=\"dataframe\">\n",
       "  <thead>\n",
       "    <tr style=\"text-align: right;\">\n",
       "      <th></th>\n",
       "      <th>name</th>\n",
       "      <th>xmin</th>\n",
       "      <th>ymin</th>\n",
       "      <th>xmax</th>\n",
       "      <th>ymax</th>\n",
       "      <th>score</th>\n",
       "    </tr>\n",
       "  </thead>\n",
       "  <tbody>\n",
       "    <tr>\n",
       "      <th>0</th>\n",
       "      <td>10006/1459541791.png</td>\n",
       "      <td>79</td>\n",
       "      <td>0</td>\n",
       "      <td>1453</td>\n",
       "      <td>560</td>\n",
       "      <td>0.942704</td>\n",
       "    </tr>\n",
       "    <tr>\n",
       "      <th>1</th>\n",
       "      <td>10006/1864590858.png</td>\n",
       "      <td>82</td>\n",
       "      <td>1547</td>\n",
       "      <td>1535</td>\n",
       "      <td>2042</td>\n",
       "      <td>0.904540</td>\n",
       "    </tr>\n",
       "    <tr>\n",
       "      <th>2</th>\n",
       "      <td>10006/1874946579.png</td>\n",
       "      <td>347</td>\n",
       "      <td>1603</td>\n",
       "      <td>1573</td>\n",
       "      <td>2044</td>\n",
       "      <td>0.939897</td>\n",
       "    </tr>\n",
       "    <tr>\n",
       "      <th>3</th>\n",
       "      <td>10006/462822612.png</td>\n",
       "      <td>334</td>\n",
       "      <td>0</td>\n",
       "      <td>1615</td>\n",
       "      <td>479</td>\n",
       "      <td>0.956540</td>\n",
       "    </tr>\n",
       "    <tr>\n",
       "      <th>4</th>\n",
       "      <td>10011/1031443799.png</td>\n",
       "      <td>243</td>\n",
       "      <td>1089</td>\n",
       "      <td>1785</td>\n",
       "      <td>2045</td>\n",
       "      <td>0.935017</td>\n",
       "    </tr>\n",
       "    <tr>\n",
       "      <th>...</th>\n",
       "      <td>...</td>\n",
       "      <td>...</td>\n",
       "      <td>...</td>\n",
       "      <td>...</td>\n",
       "      <td>...</td>\n",
       "      <td>...</td>\n",
       "    </tr>\n",
       "    <tr>\n",
       "      <th>74701</th>\n",
       "      <td>ffe7a45f8390f242db3b843762a4a7aa/f726bfd1a1910...</td>\n",
       "      <td>145</td>\n",
       "      <td>0</td>\n",
       "      <td>1622</td>\n",
       "      <td>958</td>\n",
       "      <td>0.949807</td>\n",
       "    </tr>\n",
       "    <tr>\n",
       "      <th>74702</th>\n",
       "      <td>fff2339ea4b5d2f1792672ba7d52b318/5144bf2939826...</td>\n",
       "      <td>52</td>\n",
       "      <td>1</td>\n",
       "      <td>1897</td>\n",
       "      <td>768</td>\n",
       "      <td>0.937928</td>\n",
       "    </tr>\n",
       "    <tr>\n",
       "      <th>74703</th>\n",
       "      <td>fff2339ea4b5d2f1792672ba7d52b318/e4199214f5b40...</td>\n",
       "      <td>112</td>\n",
       "      <td>0</td>\n",
       "      <td>1530</td>\n",
       "      <td>615</td>\n",
       "      <td>0.958454</td>\n",
       "    </tr>\n",
       "    <tr>\n",
       "      <th>74704</th>\n",
       "      <td>fff2339ea4b5d2f1792672ba7d52b318/e9b6ffe97a3b4...</td>\n",
       "      <td>60</td>\n",
       "      <td>1293</td>\n",
       "      <td>1894</td>\n",
       "      <td>2043</td>\n",
       "      <td>0.948357</td>\n",
       "    </tr>\n",
       "    <tr>\n",
       "      <th>74705</th>\n",
       "      <td>fff2339ea4b5d2f1792672ba7d52b318/f1b6aa1cc6246...</td>\n",
       "      <td>382</td>\n",
       "      <td>1373</td>\n",
       "      <td>1877</td>\n",
       "      <td>2045</td>\n",
       "      <td>0.954546</td>\n",
       "    </tr>\n",
       "  </tbody>\n",
       "</table>\n",
       "<p>74706 rows × 6 columns</p>\n",
       "</div>"
      ],
      "text/plain": [
       "                                                    name  xmin  ymin  xmax  \\\n",
       "0                                   10006/1459541791.png    79     0  1453   \n",
       "1                                   10006/1864590858.png    82  1547  1535   \n",
       "2                                   10006/1874946579.png   347  1603  1573   \n",
       "3                                    10006/462822612.png   334     0  1615   \n",
       "4                                   10011/1031443799.png   243  1089  1785   \n",
       "...                                                  ...   ...   ...   ...   \n",
       "74701  ffe7a45f8390f242db3b843762a4a7aa/f726bfd1a1910...   145     0  1622   \n",
       "74702  fff2339ea4b5d2f1792672ba7d52b318/5144bf2939826...    52     1  1897   \n",
       "74703  fff2339ea4b5d2f1792672ba7d52b318/e4199214f5b40...   112     0  1530   \n",
       "74704  fff2339ea4b5d2f1792672ba7d52b318/e9b6ffe97a3b4...    60  1293  1894   \n",
       "74705  fff2339ea4b5d2f1792672ba7d52b318/f1b6aa1cc6246...   382  1373  1877   \n",
       "\n",
       "       ymax     score  \n",
       "0       560  0.942704  \n",
       "1      2042  0.904540  \n",
       "2      2044  0.939897  \n",
       "3       479  0.956540  \n",
       "4      2045  0.935017  \n",
       "...     ...       ...  \n",
       "74701   958  0.949807  \n",
       "74702   768  0.937928  \n",
       "74703   615  0.958454  \n",
       "74704  2043  0.948357  \n",
       "74705  2045  0.954546  \n",
       "\n",
       "[74706 rows x 6 columns]"
      ]
     },
     "execution_count": 12,
     "metadata": {},
     "output_type": "execute_result"
    }
   ],
   "source": [
    "bbox_all = pd.concat([bbox_rsna, bbox_vindr]).reset_index(drop=True)\n",
    "bbox_all"
   ]
  },
  {
   "cell_type": "code",
   "execution_count": 14,
   "metadata": {},
   "outputs": [],
   "source": [
    "bbox_all.to_csv('input/rsna-breast-cancer-detection/bbox_all.csv', index=False)"
   ]
  },
  {
   "cell_type": "code",
   "execution_count": 8,
   "metadata": {},
   "outputs": [
    {
     "data": {
      "text/plain": [
       "54706"
      ]
     },
     "execution_count": 8,
     "metadata": {},
     "output_type": "execute_result"
    }
   ],
   "source": [
    "pd.read_csv('input/rsna-breast-cancer-detection/rsna-yolo-crop/vindr_001_baseline/det_result_vindr_001_baseline.csv')['name'].nunique()"
   ]
  },
  {
   "cell_type": "markdown",
   "metadata": {},
   "source": [
    "# Pseudo-label RSNA"
   ]
  },
  {
   "cell_type": "code",
   "execution_count": 5,
   "metadata": {},
   "outputs": [],
   "source": [
    "from datasets import PatientLevelDataset\n",
    "import pickle"
   ]
  },
  {
   "cell_type": "code",
   "execution_count": 10,
   "metadata": {},
   "outputs": [],
   "source": [
    "train = pd.read_csv('input/rsna-breast-cancer-detection/train_meta.csv')\n",
    "dataset = PatientLevelDataset(\n",
    "    df=train,\n",
    "    image_dir=None\n",
    ")"
   ]
  },
  {
   "cell_type": "code",
   "execution_count": 12,
   "metadata": {},
   "outputs": [
    {
     "data": {
      "text/plain": [
       "1.0    15772\n",
       "0.0     8249\n",
       "2.0     2265\n",
       "Name: BIRADS, dtype: int64"
      ]
     },
     "execution_count": 12,
     "metadata": {},
     "output_type": "execute_result"
    }
   ],
   "source": [
    "train['BIRADS'].value_counts()"
   ]
  },
  {
   "cell_type": "code",
   "execution_count": 17,
   "metadata": {},
   "outputs": [
    {
     "name": "stdout",
     "output_type": "stream",
     "text": [
      "[0.02476782 1.1127912 ]\n"
     ]
    }
   ],
   "source": [
    "with open('results/pretrain_baseline4_vindr2/predictions_rsna.pickle', 'rb') as f:\n",
    "    res = pickle.load(f)\n",
    "print(res['predictions'][0, :5])"
   ]
  },
  {
   "cell_type": "code",
   "execution_count": 18,
   "metadata": {},
   "outputs": [
    {
     "data": {
      "text/plain": [
       "<AxesSubplot:ylabel='Count'>"
      ]
     },
     "execution_count": 18,
     "metadata": {},
     "output_type": "execute_result"
    },
    {
     "data": {
      "image/png": "[encoded data removed]",
      "text/plain": [
       "<Figure size 432x288 with 1 Axes>"
      ]
     },
     "metadata": {
      "needs_background": "light"
     },
     "output_type": "display_data"
    }
   ],
   "source": [
    "sns.histplot(res['predictions'][:, 0])"
   ]
  },
  {
   "cell_type": "code",
   "execution_count": 23,
   "metadata": {},
   "outputs": [],
   "source": [
    "train2 = train.merge(\n",
    "    pd.DataFrame({\n",
    "        'birads_pl': res['predictions'][:, 0], \n",
    "        'density_pl': res['predictions'][:, 1]}, \n",
    "        index=pd.MultiIndex.from_frame(\n",
    "            pd.DataFrame(dataset.pids, columns=['patient_id', 'laterality']))).reset_index(),\n",
    "    on=['patient_id', 'laterality'],\n",
    "    how='left')\n",
    "# train2.to_csv('input/rsna-breast-cancer-detection/train_meta2.csv')"
   ]
  },
  {
   "cell_type": "code",
   "execution_count": 30,
   "metadata": {},
   "outputs": [
    {
     "data": {
      "text/html": [
       "<div>\n",
       "<style scoped>\n",
       "    .dataframe tbody tr th:only-of-type {\n",
       "        vertical-align: middle;\n",
       "    }\n",
       "\n",
       "    .dataframe tbody tr th {\n",
       "        vertical-align: top;\n",
       "    }\n",
       "\n",
       "    .dataframe thead th {\n",
       "        text-align: right;\n",
       "    }\n",
       "</style>\n",
       "<table border=\"1\" class=\"dataframe\">\n",
       "  <thead>\n",
       "    <tr style=\"text-align: right;\">\n",
       "      <th></th>\n",
       "      <th>site_id</th>\n",
       "      <th>patient_id</th>\n",
       "      <th>image_id</th>\n",
       "      <th>laterality</th>\n",
       "      <th>view</th>\n",
       "      <th>age</th>\n",
       "      <th>cancer</th>\n",
       "      <th>biopsy</th>\n",
       "      <th>invasive</th>\n",
       "      <th>BIRADS</th>\n",
       "      <th>implant</th>\n",
       "      <th>density</th>\n",
       "      <th>machine_id</th>\n",
       "      <th>difficult_negative_case</th>\n",
       "      <th>content_date</th>\n",
       "      <th>content_time</th>\n",
       "      <th>birads_pl</th>\n",
       "      <th>density_pl</th>\n",
       "    </tr>\n",
       "  </thead>\n",
       "  <tbody>\n",
       "    <tr>\n",
       "      <th>1281</th>\n",
       "      <td>1</td>\n",
       "      <td>11341</td>\n",
       "      <td>1096308702</td>\n",
       "      <td>L</td>\n",
       "      <td>MLO</td>\n",
       "      <td>48.0</td>\n",
       "      <td>1</td>\n",
       "      <td>1</td>\n",
       "      <td>1</td>\n",
       "      <td>0.0</td>\n",
       "      <td>0</td>\n",
       "      <td>C</td>\n",
       "      <td>170</td>\n",
       "      <td>False</td>\n",
       "      <td>20221118</td>\n",
       "      <td>184133.562970</td>\n",
       "      <td>1.080954</td>\n",
       "      <td>1.960221</td>\n",
       "    </tr>\n",
       "    <tr>\n",
       "      <th>1282</th>\n",
       "      <td>1</td>\n",
       "      <td>11341</td>\n",
       "      <td>1810004579</td>\n",
       "      <td>L</td>\n",
       "      <td>CC</td>\n",
       "      <td>48.0</td>\n",
       "      <td>1</td>\n",
       "      <td>1</td>\n",
       "      <td>1</td>\n",
       "      <td>0.0</td>\n",
       "      <td>0</td>\n",
       "      <td>C</td>\n",
       "      <td>170</td>\n",
       "      <td>False</td>\n",
       "      <td>20221118</td>\n",
       "      <td>184133.791992</td>\n",
       "      <td>1.080954</td>\n",
       "      <td>1.960221</td>\n",
       "    </tr>\n",
       "    <tr>\n",
       "      <th>8601</th>\n",
       "      <td>2</td>\n",
       "      <td>19182</td>\n",
       "      <td>675080509</td>\n",
       "      <td>R</td>\n",
       "      <td>CC</td>\n",
       "      <td>59.0</td>\n",
       "      <td>1</td>\n",
       "      <td>1</td>\n",
       "      <td>0</td>\n",
       "      <td>NaN</td>\n",
       "      <td>0</td>\n",
       "      <td>NaN</td>\n",
       "      <td>21</td>\n",
       "      <td>False</td>\n",
       "      <td>20221118</td>\n",
       "      <td>184048.288036</td>\n",
       "      <td>1.004194</td>\n",
       "      <td>1.988869</td>\n",
       "    </tr>\n",
       "    <tr>\n",
       "      <th>8602</th>\n",
       "      <td>2</td>\n",
       "      <td>19182</td>\n",
       "      <td>1872087937</td>\n",
       "      <td>R</td>\n",
       "      <td>MLO</td>\n",
       "      <td>59.0</td>\n",
       "      <td>1</td>\n",
       "      <td>1</td>\n",
       "      <td>0</td>\n",
       "      <td>NaN</td>\n",
       "      <td>0</td>\n",
       "      <td>NaN</td>\n",
       "      <td>21</td>\n",
       "      <td>False</td>\n",
       "      <td>20221118</td>\n",
       "      <td>184048.408571</td>\n",
       "      <td>1.004194</td>\n",
       "      <td>1.988869</td>\n",
       "    </tr>\n",
       "    <tr>\n",
       "      <th>14453</th>\n",
       "      <td>1</td>\n",
       "      <td>25455</td>\n",
       "      <td>491423444</td>\n",
       "      <td>L</td>\n",
       "      <td>MLO</td>\n",
       "      <td>67.0</td>\n",
       "      <td>0</td>\n",
       "      <td>0</td>\n",
       "      <td>0</td>\n",
       "      <td>2.0</td>\n",
       "      <td>0</td>\n",
       "      <td>C</td>\n",
       "      <td>49</td>\n",
       "      <td>False</td>\n",
       "      <td>20221118</td>\n",
       "      <td>184459.410743</td>\n",
       "      <td>1.017124</td>\n",
       "      <td>1.421992</td>\n",
       "    </tr>\n",
       "    <tr>\n",
       "      <th>...</th>\n",
       "      <td>...</td>\n",
       "      <td>...</td>\n",
       "      <td>...</td>\n",
       "      <td>...</td>\n",
       "      <td>...</td>\n",
       "      <td>...</td>\n",
       "      <td>...</td>\n",
       "      <td>...</td>\n",
       "      <td>...</td>\n",
       "      <td>...</td>\n",
       "      <td>...</td>\n",
       "      <td>...</td>\n",
       "      <td>...</td>\n",
       "      <td>...</td>\n",
       "      <td>...</td>\n",
       "      <td>...</td>\n",
       "      <td>...</td>\n",
       "      <td>...</td>\n",
       "    </tr>\n",
       "    <tr>\n",
       "      <th>51611</th>\n",
       "      <td>2</td>\n",
       "      <td>6658</td>\n",
       "      <td>776982430</td>\n",
       "      <td>R</td>\n",
       "      <td>CC</td>\n",
       "      <td>67.0</td>\n",
       "      <td>1</td>\n",
       "      <td>1</td>\n",
       "      <td>1</td>\n",
       "      <td>NaN</td>\n",
       "      <td>0</td>\n",
       "      <td>NaN</td>\n",
       "      <td>21</td>\n",
       "      <td>False</td>\n",
       "      <td>20221118</td>\n",
       "      <td>185600.042506</td>\n",
       "      <td>1.034825</td>\n",
       "      <td>2.455656</td>\n",
       "    </tr>\n",
       "    <tr>\n",
       "      <th>51612</th>\n",
       "      <td>2</td>\n",
       "      <td>6658</td>\n",
       "      <td>1824044872</td>\n",
       "      <td>R</td>\n",
       "      <td>MLO</td>\n",
       "      <td>67.0</td>\n",
       "      <td>1</td>\n",
       "      <td>1</td>\n",
       "      <td>1</td>\n",
       "      <td>NaN</td>\n",
       "      <td>0</td>\n",
       "      <td>NaN</td>\n",
       "      <td>21</td>\n",
       "      <td>False</td>\n",
       "      <td>20221118</td>\n",
       "      <td>185600.108140</td>\n",
       "      <td>1.034825</td>\n",
       "      <td>2.455656</td>\n",
       "    </tr>\n",
       "    <tr>\n",
       "      <th>54614</th>\n",
       "      <td>1</td>\n",
       "      <td>9865</td>\n",
       "      <td>637542663</td>\n",
       "      <td>R</td>\n",
       "      <td>CC</td>\n",
       "      <td>71.0</td>\n",
       "      <td>0</td>\n",
       "      <td>0</td>\n",
       "      <td>0</td>\n",
       "      <td>1.0</td>\n",
       "      <td>0</td>\n",
       "      <td>B</td>\n",
       "      <td>93</td>\n",
       "      <td>False</td>\n",
       "      <td>20221118</td>\n",
       "      <td>185508.431604</td>\n",
       "      <td>1.027376</td>\n",
       "      <td>1.495998</td>\n",
       "    </tr>\n",
       "    <tr>\n",
       "      <th>54615</th>\n",
       "      <td>1</td>\n",
       "      <td>9865</td>\n",
       "      <td>1659900307</td>\n",
       "      <td>R</td>\n",
       "      <td>MLO</td>\n",
       "      <td>71.0</td>\n",
       "      <td>0</td>\n",
       "      <td>0</td>\n",
       "      <td>0</td>\n",
       "      <td>1.0</td>\n",
       "      <td>0</td>\n",
       "      <td>B</td>\n",
       "      <td>93</td>\n",
       "      <td>False</td>\n",
       "      <td>20221118</td>\n",
       "      <td>185508.632223</td>\n",
       "      <td>1.027376</td>\n",
       "      <td>1.495998</td>\n",
       "    </tr>\n",
       "    <tr>\n",
       "      <th>54616</th>\n",
       "      <td>1</td>\n",
       "      <td>9865</td>\n",
       "      <td>1831206522</td>\n",
       "      <td>R</td>\n",
       "      <td>MLO</td>\n",
       "      <td>71.0</td>\n",
       "      <td>0</td>\n",
       "      <td>0</td>\n",
       "      <td>0</td>\n",
       "      <td>1.0</td>\n",
       "      <td>0</td>\n",
       "      <td>B</td>\n",
       "      <td>93</td>\n",
       "      <td>False</td>\n",
       "      <td>20221118</td>\n",
       "      <td>185508.902485</td>\n",
       "      <td>1.027376</td>\n",
       "      <td>1.495998</td>\n",
       "    </tr>\n",
       "  </tbody>\n",
       "</table>\n",
       "<p>61 rows × 18 columns</p>\n",
       "</div>"
      ],
      "text/plain": [
       "       site_id  patient_id    image_id laterality view   age  cancer  biopsy  \\\n",
       "1281         1       11341  1096308702          L  MLO  48.0       1       1   \n",
       "1282         1       11341  1810004579          L   CC  48.0       1       1   \n",
       "8601         2       19182   675080509          R   CC  59.0       1       1   \n",
       "8602         2       19182  1872087937          R  MLO  59.0       1       1   \n",
       "14453        1       25455   491423444          L  MLO  67.0       0       0   \n",
       "...        ...         ...         ...        ...  ...   ...     ...     ...   \n",
       "51611        2        6658   776982430          R   CC  67.0       1       1   \n",
       "51612        2        6658  1824044872          R  MLO  67.0       1       1   \n",
       "54614        1        9865   637542663          R   CC  71.0       0       0   \n",
       "54615        1        9865  1659900307          R  MLO  71.0       0       0   \n",
       "54616        1        9865  1831206522          R  MLO  71.0       0       0   \n",
       "\n",
       "       invasive  BIRADS  implant density  machine_id  difficult_negative_case  \\\n",
       "1281          1     0.0        0       C         170                    False   \n",
       "1282          1     0.0        0       C         170                    False   \n",
       "8601          0     NaN        0     NaN          21                    False   \n",
       "8602          0     NaN        0     NaN          21                    False   \n",
       "14453         0     2.0        0       C          49                    False   \n",
       "...         ...     ...      ...     ...         ...                      ...   \n",
       "51611         1     NaN        0     NaN          21                    False   \n",
       "51612         1     NaN        0     NaN          21                    False   \n",
       "54614         0     1.0        0       B          93                    False   \n",
       "54615         0     1.0        0       B          93                    False   \n",
       "54616         0     1.0        0       B          93                    False   \n",
       "\n",
       "       content_date   content_time  birads_pl  density_pl  \n",
       "1281       20221118  184133.562970   1.080954    1.960221  \n",
       "1282       20221118  184133.791992   1.080954    1.960221  \n",
       "8601       20221118  184048.288036   1.004194    1.988869  \n",
       "8602       20221118  184048.408571   1.004194    1.988869  \n",
       "14453      20221118  184459.410743   1.017124    1.421992  \n",
       "...             ...            ...        ...         ...  \n",
       "51611      20221118  185600.042506   1.034825    2.455656  \n",
       "51612      20221118  185600.108140   1.034825    2.455656  \n",
       "54614      20221118  185508.431604   1.027376    1.495998  \n",
       "54615      20221118  185508.632223   1.027376    1.495998  \n",
       "54616      20221118  185508.902485   1.027376    1.495998  \n",
       "\n",
       "[61 rows x 18 columns]"
      ]
     },
     "execution_count": 30,
     "metadata": {},
     "output_type": "execute_result"
    }
   ],
   "source": [
    "train2.query('birads_pl > 1.0')"
   ]
  },
  {
   "cell_type": "code",
   "execution_count": 29,
   "metadata": {},
   "outputs": [
    {
     "data": {
      "text/plain": [
       "<AxesSubplot:xlabel='birads_pl', ylabel='Count'>"
      ]
     },
     "execution_count": 29,
     "metadata": {},
     "output_type": "execute_result"
    },
    {
     "data": {
      "image/png": "[encoded data removed]",
      "text/plain": [
       "<Figure size 432x288 with 1 Axes>"
      ]
     },
     "metadata": {
      "needs_background": "light"
     },
     "output_type": "display_data"
    }
   ],
   "source": [
    "sns.histplot(data=train2, x='birads_pl', hue='BIRADS', kde=True)"
   ]
  },
  {
   "cell_type": "markdown",
   "metadata": {},
   "source": [
    "# Pseudo-label Vindr"
   ]
  },
  {
   "cell_type": "code",
   "execution_count": 7,
   "metadata": {},
   "outputs": [],
   "source": [
    "import pickle\n",
    "from datasets import PatientLevelDataset\n",
    "from sklearn.metrics import roc_auc_score"
   ]
  },
  {
   "cell_type": "code",
   "execution_count": 8,
   "metadata": {},
   "outputs": [],
   "source": [
    "pseudo_label_paths = [\n",
    "    'results/aug_07/predictions.pickle',\n",
    "    'results/aug_07_v1/predictions.pickle',\n",
    "    'results/aux_03/predictions.pickle',\n",
    "    'results/aux_02_v0/predictions.pickle',\n",
    "    'results/res_02_aux0/predictions.pickle',\n",
    "]\n",
    "preds = []\n",
    "for pl_path in pseudo_label_paths:\n",
    "    with open(pl_path, 'rb') as f:\n",
    "        res = pickle.load(f)\n",
    "        if 'targets' in res.keys():\n",
    "            targets = np.concatenate(res['targets'], 0)\n",
    "    preds.append(np.concatenate(res['outoffolds'], 0))\n",
    "preds = np.mean(preds, 0)"
   ]
  },
  {
   "cell_type": "code",
   "execution_count": 9,
   "metadata": {},
   "outputs": [
    {
     "data": {
      "text/plain": [
       "0.9135604836377498"
      ]
     },
     "execution_count": 9,
     "metadata": {},
     "output_type": "execute_result"
    }
   ],
   "source": [
    "roc_auc_score(targets, preds)"
   ]
  },
  {
   "cell_type": "code",
   "execution_count": 10,
   "metadata": {},
   "outputs": [],
   "source": [
    "train = pd.read_csv('input/rsna-breast-cancer-detection/vindr_train.csv')\n",
    "test_data = PatientLevelDataset(df=train, image_dir=None)"
   ]
  },
  {
   "cell_type": "code",
   "execution_count": 11,
   "metadata": {},
   "outputs": [],
   "source": [
    "pseudo_label_paths = [\n",
    "    'results/aug_07/predictions_vindr.pickle',\n",
    "    'results/aug_07_v1/predictions_vindr.pickle',\n",
    "    'results/aux_03/predictions_vindr.pickle',\n",
    "    'results/aux_02_v0/predictions_vindr.pickle',\n",
    "    'results/res_02_aux0/predictions_vindr.pickle',\n",
    "]"
   ]
  },
  {
   "cell_type": "code",
   "execution_count": 12,
   "metadata": {},
   "outputs": [
    {
     "name": "stdout",
     "output_type": "stream",
     "text": [
      "[0.00049721 0.00064416 0.05227333 0.00071483 0.00205639]\n",
      "[0.00053834 0.00065938 0.01457717 0.00075207 0.00167833]\n",
      "[0.00107445 0.00129469 0.00411035 0.00187427 0.00221188]\n",
      "[0.00083367 0.00090456 0.00447409 0.00113642 0.00130104]\n",
      "[0.00110259 0.00095632 0.01568074 0.00127628 0.00150978]\n"
     ]
    }
   ],
   "source": [
    "pseudo_labels = []\n",
    "for pl_path in pseudo_label_paths:\n",
    "    with open(pl_path, 'rb') as f:\n",
    "        res = pickle.load(f)\n",
    "    print(res['predictions'][0, :5, 0])\n",
    "    pseudo_labels.append(res['predictions'])\n",
    "pseudo_labels = np.stack(pseudo_labels, axis=0)"
   ]
  },
  {
   "cell_type": "code",
   "execution_count": 13,
   "metadata": {},
   "outputs": [],
   "source": [
    "pseudo_labels = pseudo_labels.mean(0).squeeze(-1)"
   ]
  },
  {
   "cell_type": "code",
   "execution_count": 14,
   "metadata": {},
   "outputs": [
    {
     "data": {
      "text/plain": [
       "<AxesSubplot:ylabel='Count'>"
      ]
     },
     "execution_count": 14,
     "metadata": {},
     "output_type": "execute_result"
    },
    {
     "data": {
      "image/png": "[encoded data removed]",
      "text/plain": [
       "<Figure size 432x288 with 1 Axes>"
      ]
     },
     "metadata": {
      "needs_background": "light"
     },
     "output_type": "display_data"
    }
   ],
   "source": [
    "sns.histplot(pseudo_labels[0][pseudo_labels[0] > 0.005])"
   ]
  },
  {
   "cell_type": "code",
   "execution_count": 15,
   "metadata": {},
   "outputs": [],
   "source": [
    "train_pl = pd.concat([\n",
    "    train.drop('cancer', axis=1).set_index(['patient_id', 'laterality']).merge(\n",
    "        pd.DataFrame(\n",
    "            {'cancer': pseudo_labels[i], 'fold': i}, \n",
    "            index=pd.MultiIndex.from_frame(\n",
    "                pd.DataFrame(test_data.pids, columns=['patient_id', 'laterality']))), \n",
    "        left_index=True, \n",
    "        right_index=True,\n",
    "        how='left'\n",
    "    ) for i in range(len(pseudo_labels))]).reset_index()"
   ]
  },
  {
   "cell_type": "code",
   "execution_count": 17,
   "metadata": {},
   "outputs": [],
   "source": [
    "for fold in range(4):\n",
    "    train_pl.query('fold == @fold').to_csv(f'input/rsna-breast-cancer-detection/pseudo_labels/vindr_train_pl_kuma_v1_fold_{fold}.csv')"
   ]
  },
  {
   "cell_type": "code",
   "execution_count": 21,
   "metadata": {},
   "outputs": [
    {
     "data": {
      "text/plain": [
       "<AxesSubplot:xlabel='cancer', ylabel='Count'>"
      ]
     },
     "execution_count": 21,
     "metadata": {},
     "output_type": "execute_result"
    },
    {
     "data": {
      "image/png": "[encoded data removed]",
      "text/plain": [
       "<Figure size 432x288 with 1 Axes>"
      ]
     },
     "metadata": {
      "needs_background": "light"
     },
     "output_type": "display_data"
    }
   ],
   "source": [
    "sns.histplot(train_pl.query('BIRADS == 4')['cancer'])"
   ]
  },
  {
   "cell_type": "code",
   "execution_count": 85,
   "metadata": {},
   "outputs": [
    {
     "data": {
      "text/plain": [
       "<AxesSubplot:xlabel='cancer', ylabel='Count'>"
      ]
     },
     "execution_count": 85,
     "metadata": {},
     "output_type": "execute_result"
    },
    {
     "data": {
      "image/png": "[encoded data removed]",
      "text/plain": [
       "<Figure size 432x288 with 1 Axes>"
      ]
     },
     "metadata": {
      "needs_background": "light"
     },
     "output_type": "display_data"
    }
   ],
   "source": [
    "sns.histplot(train_pl.query('BIRADS == 5')['cancer'])"
   ]
  },
  {
   "cell_type": "code",
   "execution_count": 83,
   "metadata": {},
   "outputs": [],
   "source": [
    "train_pl.to_csv('input/rsna-breast-cancer-detection/vindr_train_pl_v1_soft.csv', index=False)"
   ]
  },
  {
   "cell_type": "code",
   "execution_count": 23,
   "metadata": {},
   "outputs": [],
   "source": [
    "train_pl2 = pd.concat([\n",
    "    train.drop('cancer', axis=1).set_index(['patient_id', 'laterality']).merge(\n",
    "        pd.DataFrame(\n",
    "            {'cancer': pseudo_labels[i], 'fold': i}, \n",
    "            index=pd.MultiIndex.from_frame(\n",
    "                pd.DataFrame(test_data.pids, columns=['patient_id', 'laterality']))), \n",
    "        left_index=True, \n",
    "        right_index=True,\n",
    "        how='left'\n",
    "    ).query(f'cancer <= {np.percentile(pseudo_labels[i], 25)} or cancer >= {np.percentile(pseudo_labels[i], 75)}') for i in range(len(pseudo_labels))]).reset_index()"
   ]
  },
  {
   "cell_type": "code",
   "execution_count": 25,
   "metadata": {},
   "outputs": [],
   "source": [
    "train_pl2.to_csv('input/rsna-breast-cancer-detection/vindr_train_pl_v1_soft_2575.csv', index=False)"
   ]
  },
  {
   "cell_type": "code",
   "execution_count": null,
   "metadata": {},
   "outputs": [],
   "source": []
  }
 ],
 "metadata": {
  "kernelspec": {
   "display_name": "kumaconda22",
   "language": "python",
   "name": "python3"
  },
  "language_info": {
   "codemirror_mode": {
    "name": "ipython",
    "version": 3
   },
   "file_extension": ".py",
   "mimetype": "text/x-python",
   "name": "python",
   "nbconvert_exporter": "python",
   "pygments_lexer": "ipython3",
   "version": "3.9.12"
  },
  "orig_nbformat": 4,
  "vscode": {
   "interpreter": {
    "hash": "df01e636841dc76853efe73a888ff447485d7406624663312d3a1e3bb89e4467"
   }
  }
 },
 "nbformat": 4,
 "nbformat_minor": 2
}
